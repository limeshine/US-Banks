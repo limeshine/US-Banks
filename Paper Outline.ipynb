{
 "cells": [
  {
   "cell_type": "markdown",
   "metadata": {},
   "source": [
    "# I. Introduction"
   ]
  },
  {
   "cell_type": "markdown",
   "metadata": {},
   "source": [
    "1. The reasons to choose this topic\n",
    "2. Research Questions\n",
    "    - Relationship between bank profitability and OBS\n",
    "    - Relationship between credit risk and OBS\n",
    "    - Relationship between liquidity risk and OBS\n",
    "3. Summary of findings"
   ]
  },
  {
   "cell_type": "markdown",
   "metadata": {},
   "source": [
    "# II. OBS Activities in US Commercial Banks"
   ]
  },
  {
   "cell_type": "markdown",
   "metadata": {},
   "source": [
    "1. Analysis of OBS Activities Trend since 03/1995 till 12/2015\n",
    "    - 3 categories:\n",
    "        i. Loan Commitments\n",
    "        ii. Credit Derivatives\n",
    "        iii. Derivatives\n",
    "    - analyse how % of those categories to total assets have changed overtime\n",
    "    - explain those changes"
   ]
  },
  {
   "cell_type": "markdown",
   "metadata": {},
   "source": [
    "# III. Literature Review"
   ]
  },
  {
   "cell_type": "markdown",
   "metadata": {},
   "source": [
    "Review different findings regarding aforementioned research questions"
   ]
  },
  {
   "cell_type": "markdown",
   "metadata": {},
   "source": [
    "# IV. Methodology and Data"
   ]
  },
  {
   "cell_type": "markdown",
   "metadata": {},
   "source": [
    "1. Discuss proxies for independent and dependent variables\n",
    "2. Discuss measurements of those proxies\n",
    "3. Discuss regression model to be used\n",
    "4. Describe the data"
   ]
  },
  {
   "cell_type": "code",
   "execution_count": 23,
   "metadata": {
    "collapsed": false
   },
   "outputs": [
    {
     "data": {
      "text/html": [
       "<div>\n",
       "<table border=\"1\" class=\"dataframe\">\n",
       "  <thead>\n",
       "    <tr style=\"text-align: right;\">\n",
       "      <th></th>\n",
       "      <th>Proxies</th>\n",
       "      <th>Measurements</th>\n",
       "    </tr>\n",
       "  </thead>\n",
       "  <tbody>\n",
       "    <tr>\n",
       "      <th>1</th>\n",
       "      <td>Bank Profitability</td>\n",
       "      <td>ROA or ROE (pending discussion)</td>\n",
       "    </tr>\n",
       "    <tr>\n",
       "      <th>2</th>\n",
       "      <td>Credit Risk</td>\n",
       "      <td>Loans Loss Provision/Loans, Loans Loss Reserve...</td>\n",
       "    </tr>\n",
       "    <tr>\n",
       "      <th>3</th>\n",
       "      <td>Liquidity Risk</td>\n",
       "      <td>Liquidity Assets/Assets</td>\n",
       "    </tr>\n",
       "    <tr>\n",
       "      <th>4</th>\n",
       "      <td>OBS</td>\n",
       "      <td>pending</td>\n",
       "    </tr>\n",
       "    <tr>\n",
       "      <th>5</th>\n",
       "      <td>Size</td>\n",
       "      <td>ln of Total Assets</td>\n",
       "    </tr>\n",
       "    <tr>\n",
       "      <th>6</th>\n",
       "      <td>Loans-to-Total Assets</td>\n",
       "      <td>Loans/Assets</td>\n",
       "    </tr>\n",
       "    <tr>\n",
       "      <th>7</th>\n",
       "      <td>Capital Ratio</td>\n",
       "      <td>Equities/Assets</td>\n",
       "    </tr>\n",
       "    <tr>\n",
       "      <th>8</th>\n",
       "      <td>Fixed Assets-to-Total Assets</td>\n",
       "      <td>Fixed Assets/Assets</td>\n",
       "    </tr>\n",
       "    <tr>\n",
       "      <th>9</th>\n",
       "      <td>Economic Growth</td>\n",
       "      <td>GDP Growth</td>\n",
       "    </tr>\n",
       "    <tr>\n",
       "      <th>10</th>\n",
       "      <td>Inflation Growth</td>\n",
       "      <td></td>\n",
       "    </tr>\n",
       "  </tbody>\n",
       "</table>\n",
       "</div>"
      ],
      "text/plain": [
       "                         Proxies  \\\n",
       "1             Bank Profitability   \n",
       "2                    Credit Risk   \n",
       "3                 Liquidity Risk   \n",
       "4                            OBS   \n",
       "5                           Size   \n",
       "6          Loans-to-Total Assets   \n",
       "7                  Capital Ratio   \n",
       "8   Fixed Assets-to-Total Assets   \n",
       "9                Economic Growth   \n",
       "10              Inflation Growth   \n",
       "\n",
       "                                         Measurements  \n",
       "1                     ROA or ROE (pending discussion)  \n",
       "2   Loans Loss Provision/Loans, Loans Loss Reserve...  \n",
       "3                             Liquidity Assets/Assets  \n",
       "4                                             pending  \n",
       "5                                  ln of Total Assets  \n",
       "6                                        Loans/Assets  \n",
       "7                                     Equities/Assets  \n",
       "8                                 Fixed Assets/Assets  \n",
       "9                                          GDP Growth  \n",
       "10                                                     "
      ]
     },
     "execution_count": 23,
     "metadata": {},
     "output_type": "execute_result"
    }
   ],
   "source": [
    "Variables = [[\"Independent Variables\",\"Dependent Variables\"],['Proxies', 'Measurements'], \n",
    "             [\"Bank Profitability\" , \"ROA or ROE (pending discussion)\"], \n",
    "             [\"Credit Risk\",\"Loans Loss Provision/Loans, Loans Loss Reserve/Loans, Non-performing Loans/Loans\"],\n",
    "           [\"Liquidity Risk\", \"Liquidity Assets/Assets\"],\n",
    "            [\"OBS\",\"pending\"],\n",
    "             [\"Size\", \"ln of Total Assets\"],\n",
    "            [\"Loans-to-Total Assets\", \"Loans/Assets\"],\n",
    "            [\"Capital Ratio\", \"Equities/Assets\"],\n",
    "            [\"Fixed Assets-to-Total Assets\",\"Fixed Assets/Assets\"],\n",
    "            [\"Economic Growth\",\"GDP Growth\"],\n",
    "            [\"Inflation Growth\",\"\"]]\n",
    "\n",
    "headers = Variables.pop(1)\n",
    "headers_1 = Variables.pop(0)\n",
    "import pandas as pd\n",
    "df = pd.DataFrame(Variables, columns = headers)\n",
    "df.index +=1\n",
    "df.rows = headers_1\n",
    "\n",
    "df"
   ]
  },
  {
   "cell_type": "markdown",
   "metadata": {},
   "source": [
    "# V. Empirical Results and Analysis"
   ]
  },
  {
   "cell_type": "markdown",
   "metadata": {},
   "source": [
    "1. Descriptive Statistics\n",
    "2. Discuss findings and rationales"
   ]
  },
  {
   "cell_type": "markdown",
   "metadata": {},
   "source": [
    "# VI. Conclusions and Research Limitations"
   ]
  },
  {
   "cell_type": "markdown",
   "metadata": {},
   "source": [
    "# VII. Reference"
   ]
  },
  {
   "cell_type": "markdown",
   "metadata": {},
   "source": [
    "\n",
    "1.\tJorge, A. & Li, L. (2006). The Credit Risk Transfer Market and Stability Implications for U.K. Financial Institutions. IMF Working Paper.\n",
    "2.\tWagner, W. & Marsh, I. (2005). Credit risk transfer and financial sector stability. Journal of Financial Stability.\n",
    "3.\tMikati, N. (2013). Bank Risk Exposure, Bank Failure and Off Balance Sheet Activities: an Empirical Analysis for U.S. Commercial Banks.\n",
    "4.\tHassan, M. & Khasawneh, A. (2010). The Determinants of Derivatives Activities in U.S. Commercial Banks. Networks Financial Institute Working Paper 2009-WP-10.\n",
    "5.\tInstefjord, N. (2003). Risk and hedging: Do credit derivatives increase bank risk?. Journal of Banking & Finance 29(2005) 333-345.\n",
    "6.\tSchipper, K. & Yohn , T.L. (2007.  Standard‐Setting Issues and Academic Research Related to the Accounting for Financial Asset Transfers. Accounting Horizons: March 2007, Vol. 21, No. 1, pp. 59-80.\n",
    "7.\tChaudhry, M. Commercial Bank’s Off-Balance Sheet Activities and Their Relationship with Market-Based Risk Measures. \n",
    "8.\tPartnoy, F. & Skeel Jr., D.A. (2007). The Promise and Perils of Credit Derivatives.\n",
    "9.\tHirtle, B. (2008). Credit Derivatives and Bank Credit Supply. Federal Reserve Bank of New York Staff Reports. \n",
    "10. Hassan, M.B. (1991). The off-balance sheet banking risk of large U.S. commercial banks.\n"
   ]
  },
  {
   "cell_type": "code",
   "execution_count": null,
   "metadata": {
    "collapsed": true
   },
   "outputs": [],
   "source": []
  }
 ],
 "metadata": {
  "kernelspec": {
   "display_name": "Python 2",
   "language": "python",
   "name": "python2"
  },
  "language_info": {
   "codemirror_mode": {
    "name": "ipython",
    "version": 2
   },
   "file_extension": ".py",
   "mimetype": "text/x-python",
   "name": "python",
   "nbconvert_exporter": "python",
   "pygments_lexer": "ipython2",
   "version": "2.7.11"
  }
 },
 "nbformat": 4,
 "nbformat_minor": 0
}

{
 "cells": [
  {
   "cell_type": "code",
   "execution_count": 2,
   "metadata": {
    "collapsed": true
   },
   "outputs": [],
   "source": [
    "import pandas as pd\n",
    "import numpy as np"
   ]
  },
  {
   "cell_type": "markdown",
   "metadata": {},
   "source": [
    "### Dependent Variables"
   ]
  },
  {
   "cell_type": "code",
   "execution_count": 3,
   "metadata": {
    "collapsed": false
   },
   "outputs": [
    {
     "data": {
      "text/html": [
       "<div>\n",
       "<table border=\"1\" class=\"dataframe\">\n",
       "  <thead>\n",
       "    <tr style=\"text-align: right;\">\n",
       "      <th></th>\n",
       "      <th>Proxies</th>\n",
       "      <th>Measurements</th>\n",
       "      <th>Calculation Method</th>\n",
       "    </tr>\n",
       "    <tr>\n",
       "      <th>Dependent Variable</th>\n",
       "      <th></th>\n",
       "      <th></th>\n",
       "      <th></th>\n",
       "    </tr>\n",
       "  </thead>\n",
       "  <tbody>\n",
       "    <tr>\n",
       "      <th>1</th>\n",
       "      <td>Bank Profitability</td>\n",
       "      <td>ROA</td>\n",
       "      <td>Net Income/Total Assets</td>\n",
       "    </tr>\n",
       "    <tr>\n",
       "      <th>2</th>\n",
       "      <td>Bank Profitability</td>\n",
       "      <td>ROE</td>\n",
       "      <td>Net Income/Total Equity</td>\n",
       "    </tr>\n",
       "  </tbody>\n",
       "</table>\n",
       "</div>"
      ],
      "text/plain": [
       "                               Proxies Measurements       Calculation Method\n",
       "Dependent Variable                                                          \n",
       "1                   Bank Profitability          ROA  Net Income/Total Assets\n",
       "2                   Bank Profitability          ROE  Net Income/Total Equity"
      ]
     },
     "execution_count": 3,
     "metadata": {},
     "output_type": "execute_result"
    }
   ],
   "source": [
    "Bank_Profitability = [['Proxies', 'Measurements',\"Calculation Method\"], \n",
    "             [\"Bank Profitability\" , \"ROA\",\"Net Income/Total Assets\"], \n",
    "             [\"Bank Profitability\" , \"ROE\",\"Net Income/Total Equity\"]]\n",
    "           \n",
    "headers = Bank_Profitability.pop(0)\n",
    "\n",
    "df1 = pd.DataFrame(Bank_Profitability, columns = headers)\n",
    "df1.index +=1\n",
    "df1.index.name = \"Dependent Variable\"\n",
    "df1"
   ]
  },
  {
   "cell_type": "markdown",
   "metadata": {},
   "source": [
    "### Independent Variables"
   ]
  },
  {
   "cell_type": "code",
   "execution_count": 4,
   "metadata": {
    "collapsed": false
   },
   "outputs": [
    {
     "data": {
      "text/html": [
       "<div>\n",
       "<table border=\"1\" class=\"dataframe\">\n",
       "  <thead>\n",
       "    <tr style=\"text-align: right;\">\n",
       "      <th></th>\n",
       "      <th>Proxies</th>\n",
       "      <th>Measurements</th>\n",
       "    </tr>\n",
       "    <tr>\n",
       "      <th>Independent Variables</th>\n",
       "      <th></th>\n",
       "      <th></th>\n",
       "    </tr>\n",
       "  </thead>\n",
       "  <tbody>\n",
       "    <tr>\n",
       "      <th>1</th>\n",
       "      <td>Credit Risk</td>\n",
       "      <td>Loans Loss Provision/Loans, Net Charge-off/Tot...</td>\n",
       "    </tr>\n",
       "    <tr>\n",
       "      <th>2</th>\n",
       "      <td>Liquidity Risk</td>\n",
       "      <td>Liquidity Assets/Assets</td>\n",
       "    </tr>\n",
       "    <tr>\n",
       "      <th>3</th>\n",
       "      <td>Bank Size</td>\n",
       "      <td>ln of Total Assets</td>\n",
       "    </tr>\n",
       "    <tr>\n",
       "      <th>4</th>\n",
       "      <td>Loans-to-Total Assets</td>\n",
       "      <td>Loans/Assets</td>\n",
       "    </tr>\n",
       "    <tr>\n",
       "      <th>5</th>\n",
       "      <td>Capital Ratio</td>\n",
       "      <td>Equities/Assets</td>\n",
       "    </tr>\n",
       "    <tr>\n",
       "      <th>6</th>\n",
       "      <td>Fixed Assets-to-Total Assets</td>\n",
       "      <td>Fixed Assets/Assets</td>\n",
       "    </tr>\n",
       "    <tr>\n",
       "      <th>7</th>\n",
       "      <td>Off-balance sheet</td>\n",
       "      <td>Total derivative contracts held for trading. E...</td>\n",
       "    </tr>\n",
       "    <tr>\n",
       "      <th>8</th>\n",
       "      <td>Off-balance sheet</td>\n",
       "      <td>Total derivative contracts held for trading. C...</td>\n",
       "    </tr>\n",
       "    <tr>\n",
       "      <th>9</th>\n",
       "      <td>Off-balance sheet</td>\n",
       "      <td>Total derivative contracts held for trading. I...</td>\n",
       "    </tr>\n",
       "    <tr>\n",
       "      <th>10</th>\n",
       "      <td>Off-balance sheet</td>\n",
       "      <td>Total derivative contracts held for trading. F...</td>\n",
       "    </tr>\n",
       "    <tr>\n",
       "      <th>11</th>\n",
       "      <td>Off-balance sheet</td>\n",
       "      <td>Current credit exposure across all off-balance...</td>\n",
       "    </tr>\n",
       "    <tr>\n",
       "      <th>12</th>\n",
       "      <td>Real GDP</td>\n",
       "      <td>Millions of Chained 2009 Dollars</td>\n",
       "    </tr>\n",
       "    <tr>\n",
       "      <th>13</th>\n",
       "      <td>Inflation</td>\n",
       "      <td>CPI,base year 2010 =100</td>\n",
       "    </tr>\n",
       "    <tr>\n",
       "      <th>14</th>\n",
       "      <td>Slope of yeild curve</td>\n",
       "      <td>the difference between 10-year Treasury bond r...</td>\n",
       "    </tr>\n",
       "  </tbody>\n",
       "</table>\n",
       "</div>"
      ],
      "text/plain": [
       "                                            Proxies  \\\n",
       "Independent Variables                                 \n",
       "1                                       Credit Risk   \n",
       "2                                    Liquidity Risk   \n",
       "3                                         Bank Size   \n",
       "4                             Loans-to-Total Assets   \n",
       "5                                     Capital Ratio   \n",
       "6                      Fixed Assets-to-Total Assets   \n",
       "7                                 Off-balance sheet   \n",
       "8                                 Off-balance sheet   \n",
       "9                                 Off-balance sheet   \n",
       "10                                Off-balance sheet   \n",
       "11                                Off-balance sheet   \n",
       "12                                         Real GDP   \n",
       "13                                        Inflation   \n",
       "14                             Slope of yeild curve   \n",
       "\n",
       "                                                            Measurements  \n",
       "Independent Variables                                                     \n",
       "1                      Loans Loss Provision/Loans, Net Charge-off/Tot...  \n",
       "2                                                Liquidity Assets/Assets  \n",
       "3                                                     ln of Total Assets  \n",
       "4                                                           Loans/Assets  \n",
       "5                                                        Equities/Assets  \n",
       "6                                                    Fixed Assets/Assets  \n",
       "7                      Total derivative contracts held for trading. E...  \n",
       "8                      Total derivative contracts held for trading. C...  \n",
       "9                      Total derivative contracts held for trading. I...  \n",
       "10                     Total derivative contracts held for trading. F...  \n",
       "11                     Current credit exposure across all off-balance...  \n",
       "12                                      Millions of Chained 2009 Dollars  \n",
       "13                                               CPI,base year 2010 =100  \n",
       "14                     the difference between 10-year Treasury bond r...  "
      ]
     },
     "execution_count": 4,
     "metadata": {},
     "output_type": "execute_result"
    }
   ],
   "source": [
    "Bank_Profitability_Determinants = [['Proxies', 'Measurements'], \n",
    "        [\"Credit Risk\",\"Loans Loss Provision/Loans, Net Charge-off/Total Loans\"],\n",
    "           [\"Liquidity Risk\", \"Liquidity Assets/Assets\"],\n",
    "                        [\"Bank Size\", \"ln of Total Assets\"],\n",
    "            [\"Loans-to-Total Assets\", \"Loans/Assets\"],\n",
    "            [\"Capital Ratio\", \"Equities/Assets\"],\n",
    "            [\"Fixed Assets-to-Total Assets\",\"Fixed Assets/Assets\"],\n",
    "            [\"Off-balance sheet\", \"Total derivative contracts held for trading. Equity exchange contracts\"],\n",
    "            [\"Off-balance sheet\",\"Total derivative contracts held for trading. Commodity and other contracts\"],\n",
    "           \n",
    "             [\"Off-balance sheet\",\"Total derivative contracts held for trading. Interest rate contracts\"],\n",
    "             [\"Off-balance sheet\",\"Total derivative contracts held for trading. Foreign exchange contracts\"],\n",
    "         [\"Off-balance sheet\",\"Current credit exposure across all off-balance sheet derivatives\\\n",
    "            contract covered by the risk based capital standards\"],\n",
    "            [\" Real GDP\",\"Millions of Chained 2009 Dollars\"],\n",
    "            [\"Inflation\",\"CPI,base year 2010 =100\"],\n",
    "            [\"Slope of yeild curve\", \"the difference between 10-year Treasury bond rate and the 3-month Treasury bond rate\"]                      ]\n",
    "           \n",
    "headers = Bank_Profitability_Determinants.pop(0)\n",
    "\n",
    "df2 = pd.DataFrame(Bank_Profitability_Determinants, columns = headers)\n",
    "df2.index +=1\n",
    "df2.index.name = \"Independent Variables\"\n",
    "df2"
   ]
  },
  {
   "cell_type": "markdown",
   "metadata": {},
   "source": [
    "#### Quarterly Data over period Q1 2000 to Q4 2015"
   ]
  },
  {
   "cell_type": "markdown",
   "metadata": {},
   "source": [
    "##### Load Real GDP and Inflation data\n",
    "Source: Fred, Federal Reserve Bank of St.Louis"
   ]
  },
  {
   "cell_type": "code",
   "execution_count": 5,
   "metadata": {
    "collapsed": false
   },
   "outputs": [
    {
     "data": {
      "text/html": [
       "<div>\n",
       "<table border=\"1\" class=\"dataframe\">\n",
       "  <thead>\n",
       "    <tr style=\"text-align: right;\">\n",
       "      <th></th>\n",
       "      <th>Quarter</th>\n",
       "      <th>DATE</th>\n",
       "      <th>Real GDP ($M)</th>\n",
       "      <th>Inflation (CPI, base year 2010 =100)</th>\n",
       "    </tr>\n",
       "  </thead>\n",
       "  <tbody>\n",
       "    <tr>\n",
       "      <th>59</th>\n",
       "      <td>Q4 2014</td>\n",
       "      <td>10/1/2014</td>\n",
       "      <td>16186736</td>\n",
       "      <td>108.3</td>\n",
       "    </tr>\n",
       "    <tr>\n",
       "      <th>60</th>\n",
       "      <td>Q1 2015</td>\n",
       "      <td>1/1/2015</td>\n",
       "      <td>16268979</td>\n",
       "      <td>107.7</td>\n",
       "    </tr>\n",
       "    <tr>\n",
       "      <th>61</th>\n",
       "      <td>Q2 2015</td>\n",
       "      <td>4/1/2015</td>\n",
       "      <td>16374177</td>\n",
       "      <td>109.0</td>\n",
       "    </tr>\n",
       "    <tr>\n",
       "      <th>62</th>\n",
       "      <td>Q3 2015</td>\n",
       "      <td>7/1/2015</td>\n",
       "      <td>16454877</td>\n",
       "      <td>109.3</td>\n",
       "    </tr>\n",
       "    <tr>\n",
       "      <th>63</th>\n",
       "      <td>Q4 2015</td>\n",
       "      <td>10/1/2015</td>\n",
       "      <td>16490681</td>\n",
       "      <td>108.8</td>\n",
       "    </tr>\n",
       "  </tbody>\n",
       "</table>\n",
       "</div>"
      ],
      "text/plain": [
       "    Quarter       DATE  Real GDP ($M)  Inflation (CPI, base year 2010 =100)\n",
       "59  Q4 2014  10/1/2014       16186736                                 108.3\n",
       "60  Q1 2015   1/1/2015       16268979                                 107.7\n",
       "61  Q2 2015   4/1/2015       16374177                                 109.0\n",
       "62  Q3 2015   7/1/2015       16454877                                 109.3\n",
       "63  Q4 2015  10/1/2015       16490681                                 108.8"
      ]
     },
     "execution_count": 5,
     "metadata": {},
     "output_type": "execute_result"
    }
   ],
   "source": [
    "economic_metric = pd.read_csv(\"economic_metric.csv\")\n",
    "economic_metric.tail()"
   ]
  },
  {
   "cell_type": "markdown",
   "metadata": {},
   "source": [
    "##### Load 10-year and 3-month Tresury constant maturity rate to calculate slope of yeild curve\n",
    "Source: Fred, Federal Reserve Bank of St.Louis"
   ]
  },
  {
   "cell_type": "code",
   "execution_count": 6,
   "metadata": {
    "collapsed": false
   },
   "outputs": [
    {
     "name": "stdout",
     "output_type": "stream",
     "text": [
      "<class 'pandas.core.frame.DataFrame'>\n",
      "RangeIndex: 4174 entries, 0 to 4173\n",
      "Data columns (total 3 columns):\n",
      "DATE            4174 non-null object\n",
      "10-year rate    4147 non-null object\n",
      "3-month rate    4147 non-null object\n",
      "dtypes: object(3)\n",
      "memory usage: 97.9+ KB\n"
     ]
    }
   ],
   "source": [
    "slope = pd.read_csv(\"DGS10.csv\")\n",
    "slope.info()"
   ]
  },
  {
   "cell_type": "markdown",
   "metadata": {},
   "source": [
    "Remove rows with \".\" and blank columns"
   ]
  },
  {
   "cell_type": "code",
   "execution_count": 7,
   "metadata": {
    "collapsed": false
   },
   "outputs": [],
   "source": [
    "slope = slope[slope[\"10-year rate\"] != '.']\n",
    "slope = slope[slope[\"3-month rate\"] != '.']\n",
    "slope = slope.dropna()"
   ]
  },
  {
   "cell_type": "markdown",
   "metadata": {},
   "source": [
    "Calculate slope of yeild curve"
   ]
  },
  {
   "cell_type": "code",
   "execution_count": 8,
   "metadata": {
    "collapsed": false
   },
   "outputs": [],
   "source": [
    "slope[\"Slope of yeild curve\"]= slope[\"10-year rate\"].astype(\"float64\") - slope[\"3-month rate\"].astype(\"float64\")"
   ]
  },
  {
   "cell_type": "markdown",
   "metadata": {},
   "source": [
    "Manipulate slope dataframe to get only quarterly slope as the dataframe currently contains daily data."
   ]
  },
  {
   "cell_type": "markdown",
   "metadata": {},
   "source": [
    "Step 1: split DATA into day, month, year"
   ]
  },
  {
   "cell_type": "code",
   "execution_count": 9,
   "metadata": {
    "collapsed": false
   },
   "outputs": [],
   "source": [
    "month = []\n",
    "day = []\n",
    "year =[]\n",
    "for i in slope[\"DATE\"]:\n",
    "    m = i.split(\"/\")[0]\n",
    "    month.append(m)\n",
    "    d = i.split(\"/\")[1]\n",
    "    day.append(d)\n",
    "    y = i.split(\"/\")[2]\n",
    "    year.append(y)\n"
   ]
  },
  {
   "cell_type": "code",
   "execution_count": 10,
   "metadata": {
    "collapsed": false
   },
   "outputs": [],
   "source": [
    "slope[\"month\"]= month\n",
    "slope[\"day\"]= day\n",
    "slope[\"year\"]= year"
   ]
  },
  {
   "cell_type": "code",
   "execution_count": 11,
   "metadata": {
    "collapsed": false
   },
   "outputs": [
    {
     "data": {
      "text/html": [
       "<div>\n",
       "<table border=\"1\" class=\"dataframe\">\n",
       "  <thead>\n",
       "    <tr style=\"text-align: right;\">\n",
       "      <th></th>\n",
       "      <th>DATE</th>\n",
       "      <th>10-year rate</th>\n",
       "      <th>3-month rate</th>\n",
       "      <th>Slope of yeild curve</th>\n",
       "      <th>month</th>\n",
       "      <th>day</th>\n",
       "      <th>year</th>\n",
       "    </tr>\n",
       "  </thead>\n",
       "  <tbody>\n",
       "    <tr>\n",
       "      <th>0</th>\n",
       "      <td>1/3/2000</td>\n",
       "      <td>6.58</td>\n",
       "      <td>5.48</td>\n",
       "      <td>1.10</td>\n",
       "      <td>1</td>\n",
       "      <td>3</td>\n",
       "      <td>2000</td>\n",
       "    </tr>\n",
       "    <tr>\n",
       "      <th>1</th>\n",
       "      <td>1/4/2000</td>\n",
       "      <td>6.49</td>\n",
       "      <td>5.43</td>\n",
       "      <td>1.06</td>\n",
       "      <td>1</td>\n",
       "      <td>4</td>\n",
       "      <td>2000</td>\n",
       "    </tr>\n",
       "    <tr>\n",
       "      <th>2</th>\n",
       "      <td>1/5/2000</td>\n",
       "      <td>6.62</td>\n",
       "      <td>5.44</td>\n",
       "      <td>1.18</td>\n",
       "      <td>1</td>\n",
       "      <td>5</td>\n",
       "      <td>2000</td>\n",
       "    </tr>\n",
       "    <tr>\n",
       "      <th>3</th>\n",
       "      <td>1/6/2000</td>\n",
       "      <td>6.57</td>\n",
       "      <td>5.41</td>\n",
       "      <td>1.16</td>\n",
       "      <td>1</td>\n",
       "      <td>6</td>\n",
       "      <td>2000</td>\n",
       "    </tr>\n",
       "  </tbody>\n",
       "</table>\n",
       "</div>"
      ],
      "text/plain": [
       "       DATE 10-year rate 3-month rate  Slope of yeild curve month day  year\n",
       "0  1/3/2000         6.58         5.48                  1.10     1   3  2000\n",
       "1  1/4/2000         6.49         5.43                  1.06     1   4  2000\n",
       "2  1/5/2000         6.62         5.44                  1.18     1   5  2000\n",
       "3  1/6/2000         6.57         5.41                  1.16     1   6  2000"
      ]
     },
     "execution_count": 11,
     "metadata": {},
     "output_type": "execute_result"
    }
   ],
   "source": [
    "slope[:4]"
   ]
  },
  {
   "cell_type": "markdown",
   "metadata": {},
   "source": [
    "Step 2: Remove rows which do not contain March, June, September, December"
   ]
  },
  {
   "cell_type": "code",
   "execution_count": 12,
   "metadata": {
    "collapsed": false
   },
   "outputs": [],
   "source": [
    "slope = slope[-slope[\"month\"].isin([\"3\", \"6\", \"9\",\"12\"])== False]\n"
   ]
  },
  {
   "cell_type": "code",
   "execution_count": 13,
   "metadata": {
    "collapsed": false
   },
   "outputs": [],
   "source": [
    "slope[\"month\"] = slope[\"month\"].astype(\"int64\")\n",
    "slope[\"day\"] = slope[\"day\"].astype(\"int64\")\n",
    "slope[\"year\"] = slope[\"year\"].astype(\"int64\")"
   ]
  },
  {
   "cell_type": "markdown",
   "metadata": {},
   "source": [
    "Step 3: Get only data of the last day of the months"
   ]
  },
  {
   "cell_type": "markdown",
   "metadata": {},
   "source": [
    "Step 3.1: Convert columns[\"year\",\"month\",\"day\"] into indexes"
   ]
  },
  {
   "cell_type": "code",
   "execution_count": 14,
   "metadata": {
    "collapsed": false
   },
   "outputs": [
    {
     "data": {
      "text/html": [
       "<div>\n",
       "<table border=\"1\" class=\"dataframe\">\n",
       "  <thead>\n",
       "    <tr style=\"text-align: right;\">\n",
       "      <th></th>\n",
       "      <th></th>\n",
       "      <th></th>\n",
       "      <th>DATE</th>\n",
       "      <th>10-year rate</th>\n",
       "      <th>3-month rate</th>\n",
       "      <th>Slope of yeild curve</th>\n",
       "    </tr>\n",
       "    <tr>\n",
       "      <th>year</th>\n",
       "      <th>month</th>\n",
       "      <th>day</th>\n",
       "      <th></th>\n",
       "      <th></th>\n",
       "      <th></th>\n",
       "      <th></th>\n",
       "    </tr>\n",
       "  </thead>\n",
       "  <tbody>\n",
       "    <tr>\n",
       "      <th rowspan=\"2\" valign=\"top\">2000</th>\n",
       "      <th rowspan=\"2\" valign=\"top\">3</th>\n",
       "      <th>1</th>\n",
       "      <td>3/1/2000</td>\n",
       "      <td>6.39</td>\n",
       "      <td>5.76</td>\n",
       "      <td>0.63</td>\n",
       "    </tr>\n",
       "    <tr>\n",
       "      <th>2</th>\n",
       "      <td>3/2/2000</td>\n",
       "      <td>6.4</td>\n",
       "      <td>5.76</td>\n",
       "      <td>0.64</td>\n",
       "    </tr>\n",
       "  </tbody>\n",
       "</table>\n",
       "</div>"
      ],
      "text/plain": [
       "                    DATE 10-year rate 3-month rate  Slope of yeild curve\n",
       "year month day                                                          \n",
       "2000 3     1    3/1/2000         6.39         5.76                  0.63\n",
       "           2    3/2/2000          6.4         5.76                  0.64"
      ]
     },
     "execution_count": 14,
     "metadata": {},
     "output_type": "execute_result"
    }
   ],
   "source": [
    "new = slope.set_index([\"year\",\"month\",\"day\"])\n",
    "new[:2]"
   ]
  },
  {
   "cell_type": "markdown",
   "metadata": {},
   "source": [
    "Step 3.2: Create a loop to get rows containing 'Slope of yeild curve' of last day of the months and then group them into a new dataframe"
   ]
  },
  {
   "cell_type": "code",
   "execution_count": 15,
   "metadata": {
    "collapsed": true
   },
   "outputs": [],
   "source": [
    "data = []\n",
    "for y in slope[\"year\"].unique():\n",
    "    for m in slope[\"month\"].unique():\n",
    "        item = new.ix[y,m][-1:]\n",
    "        data.append(item)"
   ]
  },
  {
   "cell_type": "code",
   "execution_count": 16,
   "metadata": {
    "collapsed": false
   },
   "outputs": [
    {
     "data": {
      "text/plain": [
       "[          DATE 10-year rate 3-month rate  Slope of yeild curve\n",
       " day                                                           \n",
       " 31   3/31/2000         6.03         5.88                  0.15,\n",
       "           DATE 10-year rate 3-month rate  Slope of yeild curve\n",
       " day                                                           \n",
       " 30   6/30/2000         6.03         5.88                  0.15]"
      ]
     },
     "execution_count": 16,
     "metadata": {},
     "output_type": "execute_result"
    }
   ],
   "source": [
    "data[:2]"
   ]
  },
  {
   "cell_type": "code",
   "execution_count": 17,
   "metadata": {
    "collapsed": false
   },
   "outputs": [],
   "source": [
    "slope1 = pd.DataFrame()"
   ]
  },
  {
   "cell_type": "code",
   "execution_count": 18,
   "metadata": {
    "collapsed": false
   },
   "outputs": [
    {
     "data": {
      "text/html": [
       "<div>\n",
       "<table border=\"1\" class=\"dataframe\">\n",
       "  <thead>\n",
       "    <tr style=\"text-align: right;\">\n",
       "      <th></th>\n",
       "      <th>DATE</th>\n",
       "      <th>10-year rate</th>\n",
       "      <th>3-month rate</th>\n",
       "      <th>Slope of yeild curve</th>\n",
       "    </tr>\n",
       "    <tr>\n",
       "      <th>day</th>\n",
       "      <th></th>\n",
       "      <th></th>\n",
       "      <th></th>\n",
       "      <th></th>\n",
       "    </tr>\n",
       "  </thead>\n",
       "  <tbody>\n",
       "    <tr>\n",
       "      <th>31</th>\n",
       "      <td>3/31/2000</td>\n",
       "      <td>6.03</td>\n",
       "      <td>5.88</td>\n",
       "      <td>0.15</td>\n",
       "    </tr>\n",
       "    <tr>\n",
       "      <th>30</th>\n",
       "      <td>6/30/2000</td>\n",
       "      <td>6.03</td>\n",
       "      <td>5.88</td>\n",
       "      <td>0.15</td>\n",
       "    </tr>\n",
       "    <tr>\n",
       "      <th>29</th>\n",
       "      <td>9/29/2000</td>\n",
       "      <td>5.8</td>\n",
       "      <td>6.23</td>\n",
       "      <td>-0.43</td>\n",
       "    </tr>\n",
       "  </tbody>\n",
       "</table>\n",
       "</div>"
      ],
      "text/plain": [
       "          DATE 10-year rate 3-month rate  Slope of yeild curve\n",
       "day                                                           \n",
       "31   3/31/2000         6.03         5.88                  0.15\n",
       "30   6/30/2000         6.03         5.88                  0.15\n",
       "29   9/29/2000          5.8         6.23                 -0.43"
      ]
     },
     "execution_count": 18,
     "metadata": {},
     "output_type": "execute_result"
    }
   ],
   "source": [
    "slope1 = slope1.append(data)\n",
    "slope1[:3]"
   ]
  },
  {
   "cell_type": "code",
   "execution_count": 19,
   "metadata": {
    "collapsed": false
   },
   "outputs": [
    {
     "data": {
      "text/html": [
       "<div>\n",
       "<table border=\"1\" class=\"dataframe\">\n",
       "  <thead>\n",
       "    <tr style=\"text-align: right;\">\n",
       "      <th></th>\n",
       "      <th>day</th>\n",
       "      <th>DATE</th>\n",
       "      <th>10-year rate</th>\n",
       "      <th>3-month rate</th>\n",
       "      <th>Slope of yeild curve</th>\n",
       "    </tr>\n",
       "  </thead>\n",
       "  <tbody>\n",
       "    <tr>\n",
       "      <th>0</th>\n",
       "      <td>31</td>\n",
       "      <td>3/31/2000</td>\n",
       "      <td>6.03</td>\n",
       "      <td>5.88</td>\n",
       "      <td>0.15</td>\n",
       "    </tr>\n",
       "    <tr>\n",
       "      <th>1</th>\n",
       "      <td>30</td>\n",
       "      <td>6/30/2000</td>\n",
       "      <td>6.03</td>\n",
       "      <td>5.88</td>\n",
       "      <td>0.15</td>\n",
       "    </tr>\n",
       "    <tr>\n",
       "      <th>2</th>\n",
       "      <td>29</td>\n",
       "      <td>9/29/2000</td>\n",
       "      <td>5.8</td>\n",
       "      <td>6.23</td>\n",
       "      <td>-0.43</td>\n",
       "    </tr>\n",
       "    <tr>\n",
       "      <th>3</th>\n",
       "      <td>29</td>\n",
       "      <td>12/29/2000</td>\n",
       "      <td>5.12</td>\n",
       "      <td>5.89</td>\n",
       "      <td>-0.77</td>\n",
       "    </tr>\n",
       "  </tbody>\n",
       "</table>\n",
       "</div>"
      ],
      "text/plain": [
       "   day        DATE 10-year rate 3-month rate  Slope of yeild curve\n",
       "0   31   3/31/2000         6.03         5.88                  0.15\n",
       "1   30   6/30/2000         6.03         5.88                  0.15\n",
       "2   29   9/29/2000          5.8         6.23                 -0.43\n",
       "3   29  12/29/2000         5.12         5.89                 -0.77"
      ]
     },
     "execution_count": 19,
     "metadata": {},
     "output_type": "execute_result"
    }
   ],
   "source": [
    "slope2 = slope1.reset_index()\n",
    "slope2[:4]"
   ]
  },
  {
   "cell_type": "markdown",
   "metadata": {},
   "source": [
    "Step 4: Append a column[Quarter] to specify the quarters of the slope of yeild curve"
   ]
  },
  {
   "cell_type": "code",
   "execution_count": 20,
   "metadata": {
    "collapsed": false
   },
   "outputs": [
    {
     "data": {
      "text/plain": [
       "'2000'"
      ]
     },
     "execution_count": 20,
     "metadata": {},
     "output_type": "execute_result"
    }
   ],
   "source": [
    "slope2['DATE'][0].split('/')[2]"
   ]
  },
  {
   "cell_type": "code",
   "execution_count": 21,
   "metadata": {
    "collapsed": false
   },
   "outputs": [
    {
     "data": {
      "text/plain": [
       "'Q1 2000'"
      ]
     },
     "execution_count": 21,
     "metadata": {},
     "output_type": "execute_result"
    }
   ],
   "source": [
    "i = \"Q\"+ \"1\" +\" \" +slope2['DATE'][0].split(\"/\")[2]\n",
    "i"
   ]
  },
  {
   "cell_type": "code",
   "execution_count": 22,
   "metadata": {
    "collapsed": false
   },
   "outputs": [
    {
     "data": {
      "text/plain": [
       "64"
      ]
     },
     "execution_count": 22,
     "metadata": {},
     "output_type": "execute_result"
    }
   ],
   "source": [
    "quarter = []\n",
    "for i in slope1[\"DATE\"]:\n",
    "    if i.split('/')[0] == \"3\":\n",
    "        i = \"Q\"+ \"1\" +\" \" +i.split(\"/\")[2]\n",
    "        quarter.append(i)\n",
    "    elif i.split('/')[0] == \"6\":\n",
    "        i = \"Q\"+ \"2\" +\" \" +i.split(\"/\")[2]\n",
    "        quarter.append(i)\n",
    "    elif i.split('/')[0] == \"9\":\n",
    "        i = \"Q\"+ \"3\" +\" \" +i.split(\"/\")[2]\n",
    "        quarter.append(i)\n",
    "    else:\n",
    "        i = \"Q\"+ \"4\" +\" \" +i.split(\"/\")[2]\n",
    "        quarter.append(i)\n",
    "\n",
    "len(quarter)"
   ]
  },
  {
   "cell_type": "code",
   "execution_count": 23,
   "metadata": {
    "collapsed": false
   },
   "outputs": [
    {
     "data": {
      "text/html": [
       "<div>\n",
       "<table border=\"1\" class=\"dataframe\">\n",
       "  <thead>\n",
       "    <tr style=\"text-align: right;\">\n",
       "      <th></th>\n",
       "      <th>day</th>\n",
       "      <th>DATE</th>\n",
       "      <th>10-year rate</th>\n",
       "      <th>3-month rate</th>\n",
       "      <th>Slope of yeild curve</th>\n",
       "      <th>Quarter</th>\n",
       "    </tr>\n",
       "  </thead>\n",
       "  <tbody>\n",
       "    <tr>\n",
       "      <th>0</th>\n",
       "      <td>31</td>\n",
       "      <td>3/31/2000</td>\n",
       "      <td>6.03</td>\n",
       "      <td>5.88</td>\n",
       "      <td>0.15</td>\n",
       "      <td>Q1 2000</td>\n",
       "    </tr>\n",
       "    <tr>\n",
       "      <th>1</th>\n",
       "      <td>30</td>\n",
       "      <td>6/30/2000</td>\n",
       "      <td>6.03</td>\n",
       "      <td>5.88</td>\n",
       "      <td>0.15</td>\n",
       "      <td>Q2 2000</td>\n",
       "    </tr>\n",
       "  </tbody>\n",
       "</table>\n",
       "</div>"
      ],
      "text/plain": [
       "   day       DATE 10-year rate 3-month rate  Slope of yeild curve  Quarter\n",
       "0   31  3/31/2000         6.03         5.88                  0.15  Q1 2000\n",
       "1   30  6/30/2000         6.03         5.88                  0.15  Q2 2000"
      ]
     },
     "execution_count": 23,
     "metadata": {},
     "output_type": "execute_result"
    }
   ],
   "source": [
    "slope2[\"Quarter\"] = quarter\n",
    "slope2[:2]\n"
   ]
  },
  {
   "cell_type": "code",
   "execution_count": 24,
   "metadata": {
    "collapsed": false
   },
   "outputs": [
    {
     "data": {
      "text/html": [
       "<div>\n",
       "<table border=\"1\" class=\"dataframe\">\n",
       "  <thead>\n",
       "    <tr style=\"text-align: right;\">\n",
       "      <th></th>\n",
       "      <th>Slope of yeild curve</th>\n",
       "      <th>Quarter</th>\n",
       "    </tr>\n",
       "  </thead>\n",
       "  <tbody>\n",
       "    <tr>\n",
       "      <th>0</th>\n",
       "      <td>0.15</td>\n",
       "      <td>Q1 2000</td>\n",
       "    </tr>\n",
       "    <tr>\n",
       "      <th>1</th>\n",
       "      <td>0.15</td>\n",
       "      <td>Q2 2000</td>\n",
       "    </tr>\n",
       "  </tbody>\n",
       "</table>\n",
       "</div>"
      ],
      "text/plain": [
       "   Slope of yeild curve  Quarter\n",
       "0                  0.15  Q1 2000\n",
       "1                  0.15  Q2 2000"
      ]
     },
     "execution_count": 24,
     "metadata": {},
     "output_type": "execute_result"
    }
   ],
   "source": [
    "slope3 = slope2.drop([\"day\",\"10-year rate\",\"3-month rate\",\"DATE\"],axis=1)\n",
    "slope3[:2]"
   ]
  },
  {
   "cell_type": "markdown",
   "metadata": {},
   "source": [
    "Create a dataframe composing of macro variables"
   ]
  },
  {
   "cell_type": "code",
   "execution_count": 25,
   "metadata": {
    "collapsed": false
   },
   "outputs": [
    {
     "data": {
      "text/html": [
       "<div>\n",
       "<table border=\"1\" class=\"dataframe\">\n",
       "  <thead>\n",
       "    <tr style=\"text-align: right;\">\n",
       "      <th></th>\n",
       "      <th>Slope of yeild curve</th>\n",
       "      <th>Quarter</th>\n",
       "      <th>DATE</th>\n",
       "      <th>Real GDP ($M)</th>\n",
       "      <th>Inflation (CPI, base year 2010 =100)</th>\n",
       "    </tr>\n",
       "  </thead>\n",
       "  <tbody>\n",
       "    <tr>\n",
       "      <th>0</th>\n",
       "      <td>0.15</td>\n",
       "      <td>Q1 2000</td>\n",
       "      <td>1/1/2000</td>\n",
       "      <td>12359095</td>\n",
       "      <td>77.9</td>\n",
       "    </tr>\n",
       "    <tr>\n",
       "      <th>1</th>\n",
       "      <td>0.15</td>\n",
       "      <td>Q2 2000</td>\n",
       "      <td>4/1/2000</td>\n",
       "      <td>12592530</td>\n",
       "      <td>78.8</td>\n",
       "    </tr>\n",
       "  </tbody>\n",
       "</table>\n",
       "</div>"
      ],
      "text/plain": [
       "   Slope of yeild curve  Quarter      DATE  Real GDP ($M)  \\\n",
       "0                  0.15  Q1 2000  1/1/2000       12359095   \n",
       "1                  0.15  Q2 2000  4/1/2000       12592530   \n",
       "\n",
       "   Inflation (CPI, base year 2010 =100)  \n",
       "0                                  77.9  \n",
       "1                                  78.8  "
      ]
     },
     "execution_count": 25,
     "metadata": {},
     "output_type": "execute_result"
    }
   ],
   "source": [
    "macro_data = pd.merge(slope3,economic_metric)\n",
    "macro_data[:2]\n"
   ]
  },
  {
   "cell_type": "markdown",
   "metadata": {},
   "source": [
    "Rearrange order of columns"
   ]
  },
  {
   "cell_type": "code",
   "execution_count": 26,
   "metadata": {
    "collapsed": false
   },
   "outputs": [
    {
     "data": {
      "text/html": [
       "<div>\n",
       "<table border=\"1\" class=\"dataframe\">\n",
       "  <thead>\n",
       "    <tr style=\"text-align: right;\">\n",
       "      <th></th>\n",
       "      <th>Quarter</th>\n",
       "      <th>Real GDP ($M)</th>\n",
       "      <th>Inflation (CPI, base year 2010 =100)</th>\n",
       "      <th>Slope of yeild curve</th>\n",
       "    </tr>\n",
       "  </thead>\n",
       "  <tbody>\n",
       "    <tr>\n",
       "      <th>0</th>\n",
       "      <td>Q1 2000</td>\n",
       "      <td>12359095</td>\n",
       "      <td>77.9</td>\n",
       "      <td>0.15</td>\n",
       "    </tr>\n",
       "    <tr>\n",
       "      <th>1</th>\n",
       "      <td>Q2 2000</td>\n",
       "      <td>12592530</td>\n",
       "      <td>78.8</td>\n",
       "      <td>0.15</td>\n",
       "    </tr>\n",
       "    <tr>\n",
       "      <th>2</th>\n",
       "      <td>Q3 2000</td>\n",
       "      <td>12607676</td>\n",
       "      <td>79.4</td>\n",
       "      <td>-0.43</td>\n",
       "    </tr>\n",
       "  </tbody>\n",
       "</table>\n",
       "</div>"
      ],
      "text/plain": [
       "   Quarter  Real GDP ($M)  Inflation (CPI, base year 2010 =100)  \\\n",
       "0  Q1 2000       12359095                                  77.9   \n",
       "1  Q2 2000       12592530                                  78.8   \n",
       "2  Q3 2000       12607676                                  79.4   \n",
       "\n",
       "   Slope of yeild curve  \n",
       "0                  0.15  \n",
       "1                  0.15  \n",
       "2                 -0.43  "
      ]
     },
     "execution_count": 26,
     "metadata": {},
     "output_type": "execute_result"
    }
   ],
   "source": [
    "macro_data = macro_data[[\"Quarter\",\"Real GDP ($M)\",\n",
    "                         \"Inflation (CPI, base year 2010 =100)\",\n",
    "                        \"Slope of yeild curve\"]]\n",
    "\n",
    "macro_data[:3]"
   ]
  },
  {
   "cell_type": "markdown",
   "metadata": {},
   "source": [
    "Import Net Income Items"
   ]
  },
  {
   "cell_type": "code",
   "execution_count": 27,
   "metadata": {
    "collapsed": false
   },
   "outputs": [
    {
     "name": "stderr",
     "output_type": "stream",
     "text": [
      "C:\\Users\\thanh\\AppData\\Local\\Enthought\\Canopy\\User\\lib\\site-packages\\IPython\\core\\interactiveshell.py:2723: DtypeWarning: Columns (8) have mixed types. Specify dtype option on import or set low_memory=False.\n",
      "  interactivity=interactivity, compiler=compiler, result=result)\n"
     ]
    }
   ],
   "source": [
    "net_income_item =  pd.read_csv(\"net income1.csv\")"
   ]
  },
  {
   "cell_type": "code",
   "execution_count": 28,
   "metadata": {
    "collapsed": false
   },
   "outputs": [],
   "source": [
    "net_income_item.columns = [\"Loan Loss Provision\",\"Net Income\",\"Total Loan Recoveries\",\n",
    "                           \"Total Loan Charge-offs\",\\\n",
    "               \"Bank ID\",\"Bank Name\",\"City\",\"State\",\"Zip Code\",\n",
    "                           \"Date established\",\"Reporting Date\"]"
   ]
  },
  {
   "cell_type": "code",
   "execution_count": 29,
   "metadata": {
    "collapsed": false
   },
   "outputs": [
    {
     "data": {
      "text/html": [
       "<div>\n",
       "<table border=\"1\" class=\"dataframe\">\n",
       "  <thead>\n",
       "    <tr style=\"text-align: right;\">\n",
       "      <th></th>\n",
       "      <th>Loan Loss Provision</th>\n",
       "      <th>Net Income</th>\n",
       "      <th>Total Loan Recoveries</th>\n",
       "      <th>Total Loan Charge-offs</th>\n",
       "      <th>Bank ID</th>\n",
       "      <th>Bank Name</th>\n",
       "      <th>City</th>\n",
       "      <th>State</th>\n",
       "      <th>Zip Code</th>\n",
       "      <th>Date established</th>\n",
       "      <th>Reporting Date</th>\n",
       "    </tr>\n",
       "  </thead>\n",
       "  <tbody>\n",
       "    <tr>\n",
       "      <th>0</th>\n",
       "      <td>27.0</td>\n",
       "      <td>221.0</td>\n",
       "      <td>26.0</td>\n",
       "      <td>24.0</td>\n",
       "      <td>37</td>\n",
       "      <td>BANK OF HANCOCK CTY</td>\n",
       "      <td>SPARTA</td>\n",
       "      <td>GA</td>\n",
       "      <td>31087</td>\n",
       "      <td>19040901.0</td>\n",
       "      <td>20000331</td>\n",
       "    </tr>\n",
       "    <tr>\n",
       "      <th>1</th>\n",
       "      <td>78.0</td>\n",
       "      <td>453.0</td>\n",
       "      <td>42.0</td>\n",
       "      <td>77.0</td>\n",
       "      <td>37</td>\n",
       "      <td>BANK OF HANCOCK CTY</td>\n",
       "      <td>SPARTA</td>\n",
       "      <td>GA</td>\n",
       "      <td>31087</td>\n",
       "      <td>19040901.0</td>\n",
       "      <td>20000630</td>\n",
       "    </tr>\n",
       "    <tr>\n",
       "      <th>2</th>\n",
       "      <td>129.0</td>\n",
       "      <td>697.0</td>\n",
       "      <td>58.0</td>\n",
       "      <td>124.0</td>\n",
       "      <td>37</td>\n",
       "      <td>BANK OF HANCOCK CTY</td>\n",
       "      <td>SPARTA</td>\n",
       "      <td>GA</td>\n",
       "      <td>31087</td>\n",
       "      <td>19040901.0</td>\n",
       "      <td>20000930</td>\n",
       "    </tr>\n",
       "    <tr>\n",
       "      <th>3</th>\n",
       "      <td>180.0</td>\n",
       "      <td>908.0</td>\n",
       "      <td>67.0</td>\n",
       "      <td>205.0</td>\n",
       "      <td>37</td>\n",
       "      <td>BANK OF HANCOCK CTY</td>\n",
       "      <td>SPARTA</td>\n",
       "      <td>GA</td>\n",
       "      <td>31087</td>\n",
       "      <td>19040901.0</td>\n",
       "      <td>20001231</td>\n",
       "    </tr>\n",
       "  </tbody>\n",
       "</table>\n",
       "</div>"
      ],
      "text/plain": [
       "   Loan Loss Provision  Net Income  Total Loan Recoveries  \\\n",
       "0                 27.0       221.0                   26.0   \n",
       "1                 78.0       453.0                   42.0   \n",
       "2                129.0       697.0                   58.0   \n",
       "3                180.0       908.0                   67.0   \n",
       "\n",
       "   Total Loan Charge-offs  Bank ID            Bank Name    City State  \\\n",
       "0                    24.0       37  BANK OF HANCOCK CTY  SPARTA    GA   \n",
       "1                    77.0       37  BANK OF HANCOCK CTY  SPARTA    GA   \n",
       "2                   124.0       37  BANK OF HANCOCK CTY  SPARTA    GA   \n",
       "3                   205.0       37  BANK OF HANCOCK CTY  SPARTA    GA   \n",
       "\n",
       "  Zip Code  Date established  Reporting Date  \n",
       "0    31087        19040901.0        20000331  \n",
       "1    31087        19040901.0        20000630  \n",
       "2    31087        19040901.0        20000930  \n",
       "3    31087        19040901.0        20001231  "
      ]
     },
     "execution_count": 29,
     "metadata": {},
     "output_type": "execute_result"
    }
   ],
   "source": [
    "net_income_item[:4]\n"
   ]
  },
  {
   "cell_type": "markdown",
   "metadata": {},
   "source": [
    "Some banks changed their names. Thus number of Bank ID # number of Bank Name"
   ]
  },
  {
   "cell_type": "code",
   "execution_count": 30,
   "metadata": {
    "collapsed": false
   },
   "outputs": [
    {
     "data": {
      "text/plain": [
       "12036"
      ]
     },
     "execution_count": 30,
     "metadata": {},
     "output_type": "execute_result"
    }
   ],
   "source": [
    "net_income_item[\"Bank Name\"].nunique()"
   ]
  },
  {
   "cell_type": "code",
   "execution_count": 31,
   "metadata": {
    "collapsed": false
   },
   "outputs": [
    {
     "data": {
      "text/plain": [
       "12037"
      ]
     },
     "execution_count": 31,
     "metadata": {},
     "output_type": "execute_result"
    }
   ],
   "source": [
    "len(net_income_item[\"Bank Name\"].unique())"
   ]
  },
  {
   "cell_type": "code",
   "execution_count": 32,
   "metadata": {
    "collapsed": false
   },
   "outputs": [
    {
     "data": {
      "text/plain": [
       "11731"
      ]
     },
     "execution_count": 32,
     "metadata": {},
     "output_type": "execute_result"
    }
   ],
   "source": [
    "net_income_item[\"Bank ID\"].nunique()"
   ]
  },
  {
   "cell_type": "code",
   "execution_count": 33,
   "metadata": {
    "collapsed": false
   },
   "outputs": [
    {
     "data": {
      "text/plain": [
       "11731"
      ]
     },
     "execution_count": 33,
     "metadata": {},
     "output_type": "execute_result"
    }
   ],
   "source": [
    "len(net_income_item[\"Bank ID\"].unique())"
   ]
  },
  {
   "cell_type": "code",
   "execution_count": 34,
   "metadata": {
    "collapsed": false
   },
   "outputs": [
    {
     "data": {
      "text/html": [
       "<div>\n",
       "<table border=\"1\" class=\"dataframe\">\n",
       "  <thead>\n",
       "    <tr style=\"text-align: right;\">\n",
       "      <th></th>\n",
       "      <th>Loan Loss Provision</th>\n",
       "      <th>Net Income</th>\n",
       "      <th>Total Loan Recoveries</th>\n",
       "      <th>Total Loan Charge-offs</th>\n",
       "      <th>Bank ID</th>\n",
       "      <th>Bank Name</th>\n",
       "      <th>City</th>\n",
       "      <th>State</th>\n",
       "      <th>Zip Code</th>\n",
       "      <th>Date established</th>\n",
       "      <th>Reporting Date</th>\n",
       "    </tr>\n",
       "  </thead>\n",
       "  <tbody>\n",
       "    <tr>\n",
       "      <th>1459</th>\n",
       "      <td>4759.0</td>\n",
       "      <td>1200.0</td>\n",
       "      <td>510.0</td>\n",
       "      <td>2253.0</td>\n",
       "      <td>2938</td>\n",
       "      <td>SECURITY B&amp;TC OF ALBANY</td>\n",
       "      <td>ALBANY</td>\n",
       "      <td>GA</td>\n",
       "      <td>31701</td>\n",
       "      <td>19700831.0</td>\n",
       "      <td>20081231</td>\n",
       "    </tr>\n",
       "    <tr>\n",
       "      <th>1460</th>\n",
       "      <td>3877.0</td>\n",
       "      <td>-994.0</td>\n",
       "      <td>39.0</td>\n",
       "      <td>4527.0</td>\n",
       "      <td>2938</td>\n",
       "      <td>SB&amp;T BK</td>\n",
       "      <td>ALBANY</td>\n",
       "      <td>GA</td>\n",
       "      <td>31701</td>\n",
       "      <td>19700831.0</td>\n",
       "      <td>20090331</td>\n",
       "    </tr>\n",
       "    <tr>\n",
       "      <th>1461</th>\n",
       "      <td>6510.0</td>\n",
       "      <td>-1902.0</td>\n",
       "      <td>254.0</td>\n",
       "      <td>6223.0</td>\n",
       "      <td>2938</td>\n",
       "      <td>SB&amp;T BK</td>\n",
       "      <td>ALBANY</td>\n",
       "      <td>GA</td>\n",
       "      <td>31701</td>\n",
       "      <td>19700831.0</td>\n",
       "      <td>20090630</td>\n",
       "    </tr>\n",
       "    <tr>\n",
       "      <th>1462</th>\n",
       "      <td>14770.0</td>\n",
       "      <td>-5080.0</td>\n",
       "      <td>293.0</td>\n",
       "      <td>14623.0</td>\n",
       "      <td>2938</td>\n",
       "      <td>SB&amp;T BK</td>\n",
       "      <td>ALBANY</td>\n",
       "      <td>GA</td>\n",
       "      <td>31701</td>\n",
       "      <td>19700831.0</td>\n",
       "      <td>20090930</td>\n",
       "    </tr>\n",
       "    <tr>\n",
       "      <th>1463</th>\n",
       "      <td>20047.0</td>\n",
       "      <td>-6509.0</td>\n",
       "      <td>508.0</td>\n",
       "      <td>21204.0</td>\n",
       "      <td>2938</td>\n",
       "      <td>SB&amp;T BK</td>\n",
       "      <td>ALBANY</td>\n",
       "      <td>GA</td>\n",
       "      <td>31701</td>\n",
       "      <td>19700831.0</td>\n",
       "      <td>20091231</td>\n",
       "    </tr>\n",
       "  </tbody>\n",
       "</table>\n",
       "</div>"
      ],
      "text/plain": [
       "      Loan Loss Provision  Net Income  Total Loan Recoveries  \\\n",
       "1459               4759.0      1200.0                  510.0   \n",
       "1460               3877.0      -994.0                   39.0   \n",
       "1461               6510.0     -1902.0                  254.0   \n",
       "1462              14770.0     -5080.0                  293.0   \n",
       "1463              20047.0     -6509.0                  508.0   \n",
       "\n",
       "      Total Loan Charge-offs  Bank ID                Bank Name    City State  \\\n",
       "1459                  2253.0     2938  SECURITY B&TC OF ALBANY  ALBANY    GA   \n",
       "1460                  4527.0     2938                  SB&T BK  ALBANY    GA   \n",
       "1461                  6223.0     2938                  SB&T BK  ALBANY    GA   \n",
       "1462                 14623.0     2938                  SB&T BK  ALBANY    GA   \n",
       "1463                 21204.0     2938                  SB&T BK  ALBANY    GA   \n",
       "\n",
       "     Zip Code  Date established  Reporting Date  \n",
       "1459    31701        19700831.0        20081231  \n",
       "1460    31701        19700831.0        20090331  \n",
       "1461    31701        19700831.0        20090630  \n",
       "1462    31701        19700831.0        20090930  \n",
       "1463    31701        19700831.0        20091231  "
      ]
     },
     "execution_count": 34,
     "metadata": {},
     "output_type": "execute_result"
    }
   ],
   "source": [
    "net_income_item.ix[net_income_item[\"Bank ID\"] == 2938][35:-1]\n",
    "# This bank changed its name since 03/31/2009"
   ]
  },
  {
   "cell_type": "markdown",
   "metadata": {},
   "source": [
    "Import Balance sheet items"
   ]
  },
  {
   "cell_type": "code",
   "execution_count": 35,
   "metadata": {
    "collapsed": true
   },
   "outputs": [],
   "source": [
    "balance_sheet_item =  pd.read_csv(\"balance sheet.csv\")"
   ]
  },
  {
   "cell_type": "code",
   "execution_count": 36,
   "metadata": {
    "collapsed": false
   },
   "outputs": [
    {
     "data": {
      "text/html": [
       "<div>\n",
       "<table border=\"1\" class=\"dataframe\">\n",
       "  <thead>\n",
       "    <tr style=\"text-align: right;\">\n",
       "      <th></th>\n",
       "      <th>Cash</th>\n",
       "      <th>Available-for-sale securities</th>\n",
       "      <th>Total Loan, net of unearned income</th>\n",
       "      <th>Fixed Assets</th>\n",
       "      <th>Total Assets</th>\n",
       "      <th>Total Equity</th>\n",
       "      <th>Bank ID</th>\n",
       "      <th>Bank Name</th>\n",
       "      <th>Reporting Date</th>\n",
       "    </tr>\n",
       "  </thead>\n",
       "  <tbody>\n",
       "    <tr>\n",
       "      <th>0</th>\n",
       "      <td>1436.0</td>\n",
       "      <td>198.0</td>\n",
       "      <td>36620.0</td>\n",
       "      <td>614.0</td>\n",
       "      <td>64088.0</td>\n",
       "      <td>10709.0</td>\n",
       "      <td>37</td>\n",
       "      <td>BANK OF HANCOCK CTY</td>\n",
       "      <td>20000331</td>\n",
       "    </tr>\n",
       "    <tr>\n",
       "      <th>1</th>\n",
       "      <td>2014.0</td>\n",
       "      <td>198.0</td>\n",
       "      <td>38458.0</td>\n",
       "      <td>597.0</td>\n",
       "      <td>62982.0</td>\n",
       "      <td>10845.0</td>\n",
       "      <td>37</td>\n",
       "      <td>BANK OF HANCOCK CTY</td>\n",
       "      <td>20000630</td>\n",
       "    </tr>\n",
       "    <tr>\n",
       "      <th>2</th>\n",
       "      <td>1386.0</td>\n",
       "      <td>197.0</td>\n",
       "      <td>41145.0</td>\n",
       "      <td>589.0</td>\n",
       "      <td>63862.0</td>\n",
       "      <td>11089.0</td>\n",
       "      <td>37</td>\n",
       "      <td>BANK OF HANCOCK CTY</td>\n",
       "      <td>20000930</td>\n",
       "    </tr>\n",
       "  </tbody>\n",
       "</table>\n",
       "</div>"
      ],
      "text/plain": [
       "     Cash  Available-for-sale securities  Total Loan, net of unearned income  \\\n",
       "0  1436.0                          198.0                             36620.0   \n",
       "1  2014.0                          198.0                             38458.0   \n",
       "2  1386.0                          197.0                             41145.0   \n",
       "\n",
       "   Fixed Assets  Total Assets  Total Equity  Bank ID            Bank Name  \\\n",
       "0         614.0       64088.0       10709.0       37  BANK OF HANCOCK CTY   \n",
       "1         597.0       62982.0       10845.0       37  BANK OF HANCOCK CTY   \n",
       "2         589.0       63862.0       11089.0       37  BANK OF HANCOCK CTY   \n",
       "\n",
       "   Reporting Date  \n",
       "0        20000331  \n",
       "1        20000630  \n",
       "2        20000930  "
      ]
     },
     "execution_count": 36,
     "metadata": {},
     "output_type": "execute_result"
    }
   ],
   "source": [
    "balance_sheet_item.columns = [\"Cash\", \"Available-for-sale securities\",\n",
    "                              \"Total Loan, net of unearned income\",\"Fixed Assets\",\n",
    "                              \"Total Assets\",\\\n",
    "               \"Total Equity\",\"Bank ID\",\"Bank Name\",\"Reporting Date\"]\n",
    "\n",
    "balance_sheet_item[:3]"
   ]
  },
  {
   "cell_type": "code",
   "execution_count": 37,
   "metadata": {
    "collapsed": false
   },
   "outputs": [
    {
     "data": {
      "text/plain": [
       "11731"
      ]
     },
     "execution_count": 37,
     "metadata": {},
     "output_type": "execute_result"
    }
   ],
   "source": [
    "len(balance_sheet_item[\"Bank ID\"].unique())"
   ]
  },
  {
   "cell_type": "markdown",
   "metadata": {},
   "source": [
    "Import Off-balance sheet items"
   ]
  },
  {
   "cell_type": "code",
   "execution_count": 248,
   "metadata": {
    "collapsed": false
   },
   "outputs": [],
   "source": [
    "obs_item =  pd.read_csv(\"obs.csv\")"
   ]
  },
  {
   "cell_type": "code",
   "execution_count": 249,
   "metadata": {
    "collapsed": false
   },
   "outputs": [
    {
     "data": {
      "text/html": [
       "<div>\n",
       "<table border=\"1\" class=\"dataframe\">\n",
       "  <thead>\n",
       "    <tr style=\"text-align: right;\">\n",
       "      <th></th>\n",
       "      <th>Total derivative contracts held for trading. Equity exchange contracts</th>\n",
       "      <th>Total derivative contracts held for trading. Commodity and other contracts</th>\n",
       "      <th>Current credit exposure across all off-balance sheet derivatives            contract covered by the risk based capital standards</th>\n",
       "      <th>Total derivative contracts            held for trading. Interest rate contracts</th>\n",
       "      <th>Total derivative contracts held for trading. Foreign exchange contracts</th>\n",
       "      <th>Bank ID</th>\n",
       "      <th>Bank Name</th>\n",
       "      <th>Reporting Date</th>\n",
       "    </tr>\n",
       "  </thead>\n",
       "  <tbody>\n",
       "    <tr>\n",
       "      <th>0</th>\n",
       "      <td>0.0</td>\n",
       "      <td>0.0</td>\n",
       "      <td>0.0</td>\n",
       "      <td>0.0</td>\n",
       "      <td>0.0</td>\n",
       "      <td>37</td>\n",
       "      <td>BANK OF HANCOCK CTY</td>\n",
       "      <td>20000331</td>\n",
       "    </tr>\n",
       "    <tr>\n",
       "      <th>1</th>\n",
       "      <td>0.0</td>\n",
       "      <td>0.0</td>\n",
       "      <td>0.0</td>\n",
       "      <td>0.0</td>\n",
       "      <td>0.0</td>\n",
       "      <td>37</td>\n",
       "      <td>BANK OF HANCOCK CTY</td>\n",
       "      <td>20000630</td>\n",
       "    </tr>\n",
       "    <tr>\n",
       "      <th>2</th>\n",
       "      <td>0.0</td>\n",
       "      <td>0.0</td>\n",
       "      <td>0.0</td>\n",
       "      <td>0.0</td>\n",
       "      <td>0.0</td>\n",
       "      <td>37</td>\n",
       "      <td>BANK OF HANCOCK CTY</td>\n",
       "      <td>20000930</td>\n",
       "    </tr>\n",
       "  </tbody>\n",
       "</table>\n",
       "</div>"
      ],
      "text/plain": [
       "   Total derivative contracts held for trading. Equity exchange contracts  \\\n",
       "0                                                0.0                        \n",
       "1                                                0.0                        \n",
       "2                                                0.0                        \n",
       "\n",
       "   Total derivative contracts held for trading. Commodity and other contracts  \\\n",
       "0                                                0.0                            \n",
       "1                                                0.0                            \n",
       "2                                                0.0                            \n",
       "\n",
       "   Current credit exposure across all off-balance sheet derivatives            contract covered by the risk based capital standards  \\\n",
       "0                                                0.0                                                                                  \n",
       "1                                                0.0                                                                                  \n",
       "2                                                0.0                                                                                  \n",
       "\n",
       "   Total derivative contracts            held for trading. Interest rate contracts  \\\n",
       "0                                                0.0                                 \n",
       "1                                                0.0                                 \n",
       "2                                                0.0                                 \n",
       "\n",
       "   Total derivative contracts held for trading. Foreign exchange contracts  \\\n",
       "0                                                0.0                         \n",
       "1                                                0.0                         \n",
       "2                                                0.0                         \n",
       "\n",
       "   Bank ID            Bank Name  Reporting Date  \n",
       "0       37  BANK OF HANCOCK CTY        20000331  \n",
       "1       37  BANK OF HANCOCK CTY        20000630  \n",
       "2       37  BANK OF HANCOCK CTY        20000930  "
      ]
     },
     "execution_count": 249,
     "metadata": {},
     "output_type": "execute_result"
    }
   ],
   "source": [
    "obs_item.columns = [\"Total derivative contracts held for trading. Equity exchange contracts\", \"Total derivative contracts \\\n",
    "held for trading. Commodity and other contracts\",\"Current credit exposure across all off-balance sheet derivatives\\\n",
    "            contract covered by the risk based capital standards\",\"Total derivative contracts\\\n",
    "            held for trading. Interest rate contracts\",\"Total derivative contracts held for trading. Foreign exchange contracts\",\\\n",
    "               \"Bank ID\",\"Bank Name\",\"Reporting Date\"]\n",
    "\n",
    "obs_item[:3]"
   ]
  },
  {
   "cell_type": "code",
   "execution_count": 250,
   "metadata": {
    "collapsed": false
   },
   "outputs": [
    {
     "data": {
      "text/plain": [
       "11731"
      ]
     },
     "execution_count": 250,
     "metadata": {},
     "output_type": "execute_result"
    }
   ],
   "source": [
    "len(obs_item[\"Bank ID\"].unique())"
   ]
  },
  {
   "cell_type": "code",
   "execution_count": 251,
   "metadata": {
    "collapsed": true
   },
   "outputs": [],
   "source": [
    "df = pd.merge(net_income_item,balance_sheet_item)"
   ]
  },
  {
   "cell_type": "code",
   "execution_count": 252,
   "metadata": {
    "collapsed": true
   },
   "outputs": [],
   "source": [
    "df = pd.merge(df,obs_item)"
   ]
  },
  {
   "cell_type": "code",
   "execution_count": 253,
   "metadata": {
    "collapsed": false,
    "scrolled": true
   },
   "outputs": [
    {
     "data": {
      "text/html": [
       "<div>\n",
       "<table border=\"1\" class=\"dataframe\">\n",
       "  <thead>\n",
       "    <tr style=\"text-align: right;\">\n",
       "      <th></th>\n",
       "      <th>Loan Loss Provision</th>\n",
       "      <th>Net Income</th>\n",
       "      <th>Total Loan Recoveries</th>\n",
       "      <th>Total Loan Charge-offs</th>\n",
       "      <th>Bank ID</th>\n",
       "      <th>Bank Name</th>\n",
       "      <th>City</th>\n",
       "      <th>State</th>\n",
       "      <th>Zip Code</th>\n",
       "      <th>Date established</th>\n",
       "      <th>...</th>\n",
       "      <th>Available-for-sale securities</th>\n",
       "      <th>Total Loan, net of unearned income</th>\n",
       "      <th>Fixed Assets</th>\n",
       "      <th>Total Assets</th>\n",
       "      <th>Total Equity</th>\n",
       "      <th>Total derivative contracts held for trading. Equity exchange contracts</th>\n",
       "      <th>Total derivative contracts held for trading. Commodity and other contracts</th>\n",
       "      <th>Current credit exposure across all off-balance sheet derivatives            contract covered by the risk based capital standards</th>\n",
       "      <th>Total derivative contracts            held for trading. Interest rate contracts</th>\n",
       "      <th>Total derivative contracts held for trading. Foreign exchange contracts</th>\n",
       "    </tr>\n",
       "  </thead>\n",
       "  <tbody>\n",
       "    <tr>\n",
       "      <th>0</th>\n",
       "      <td>27.0</td>\n",
       "      <td>221.0</td>\n",
       "      <td>26.0</td>\n",
       "      <td>24.0</td>\n",
       "      <td>37</td>\n",
       "      <td>BANK OF HANCOCK CTY</td>\n",
       "      <td>SPARTA</td>\n",
       "      <td>GA</td>\n",
       "      <td>31087</td>\n",
       "      <td>19040901.0</td>\n",
       "      <td>...</td>\n",
       "      <td>198.0</td>\n",
       "      <td>36620.0</td>\n",
       "      <td>614.0</td>\n",
       "      <td>64088.0</td>\n",
       "      <td>10709.0</td>\n",
       "      <td>0.0</td>\n",
       "      <td>0.0</td>\n",
       "      <td>0.0</td>\n",
       "      <td>0.0</td>\n",
       "      <td>0.0</td>\n",
       "    </tr>\n",
       "    <tr>\n",
       "      <th>1</th>\n",
       "      <td>78.0</td>\n",
       "      <td>453.0</td>\n",
       "      <td>42.0</td>\n",
       "      <td>77.0</td>\n",
       "      <td>37</td>\n",
       "      <td>BANK OF HANCOCK CTY</td>\n",
       "      <td>SPARTA</td>\n",
       "      <td>GA</td>\n",
       "      <td>31087</td>\n",
       "      <td>19040901.0</td>\n",
       "      <td>...</td>\n",
       "      <td>198.0</td>\n",
       "      <td>38458.0</td>\n",
       "      <td>597.0</td>\n",
       "      <td>62982.0</td>\n",
       "      <td>10845.0</td>\n",
       "      <td>0.0</td>\n",
       "      <td>0.0</td>\n",
       "      <td>0.0</td>\n",
       "      <td>0.0</td>\n",
       "      <td>0.0</td>\n",
       "    </tr>\n",
       "    <tr>\n",
       "      <th>2</th>\n",
       "      <td>129.0</td>\n",
       "      <td>697.0</td>\n",
       "      <td>58.0</td>\n",
       "      <td>124.0</td>\n",
       "      <td>37</td>\n",
       "      <td>BANK OF HANCOCK CTY</td>\n",
       "      <td>SPARTA</td>\n",
       "      <td>GA</td>\n",
       "      <td>31087</td>\n",
       "      <td>19040901.0</td>\n",
       "      <td>...</td>\n",
       "      <td>197.0</td>\n",
       "      <td>41145.0</td>\n",
       "      <td>589.0</td>\n",
       "      <td>63862.0</td>\n",
       "      <td>11089.0</td>\n",
       "      <td>0.0</td>\n",
       "      <td>0.0</td>\n",
       "      <td>0.0</td>\n",
       "      <td>0.0</td>\n",
       "      <td>0.0</td>\n",
       "    </tr>\n",
       "  </tbody>\n",
       "</table>\n",
       "<p>3 rows × 22 columns</p>\n",
       "</div>"
      ],
      "text/plain": [
       "   Loan Loss Provision  Net Income  Total Loan Recoveries  \\\n",
       "0                 27.0       221.0                   26.0   \n",
       "1                 78.0       453.0                   42.0   \n",
       "2                129.0       697.0                   58.0   \n",
       "\n",
       "   Total Loan Charge-offs  Bank ID            Bank Name    City State  \\\n",
       "0                    24.0       37  BANK OF HANCOCK CTY  SPARTA    GA   \n",
       "1                    77.0       37  BANK OF HANCOCK CTY  SPARTA    GA   \n",
       "2                   124.0       37  BANK OF HANCOCK CTY  SPARTA    GA   \n",
       "\n",
       "  Zip Code  Date established  \\\n",
       "0    31087        19040901.0   \n",
       "1    31087        19040901.0   \n",
       "2    31087        19040901.0   \n",
       "\n",
       "                                    ...                                     \\\n",
       "0                                   ...                                      \n",
       "1                                   ...                                      \n",
       "2                                   ...                                      \n",
       "\n",
       "   Available-for-sale securities  Total Loan, net of unearned income  \\\n",
       "0                          198.0                             36620.0   \n",
       "1                          198.0                             38458.0   \n",
       "2                          197.0                             41145.0   \n",
       "\n",
       "   Fixed Assets  Total Assets  Total Equity  \\\n",
       "0         614.0       64088.0       10709.0   \n",
       "1         597.0       62982.0       10845.0   \n",
       "2         589.0       63862.0       11089.0   \n",
       "\n",
       "   Total derivative contracts held for trading. Equity exchange contracts  \\\n",
       "0                                                0.0                        \n",
       "1                                                0.0                        \n",
       "2                                                0.0                        \n",
       "\n",
       "   Total derivative contracts held for trading. Commodity and other contracts  \\\n",
       "0                                                0.0                            \n",
       "1                                                0.0                            \n",
       "2                                                0.0                            \n",
       "\n",
       "   Current credit exposure across all off-balance sheet derivatives            contract covered by the risk based capital standards  \\\n",
       "0                                                0.0                                                                                  \n",
       "1                                                0.0                                                                                  \n",
       "2                                                0.0                                                                                  \n",
       "\n",
       "   Total derivative contracts            held for trading. Interest rate contracts  \\\n",
       "0                                                0.0                                 \n",
       "1                                                0.0                                 \n",
       "2                                                0.0                                 \n",
       "\n",
       "   Total derivative contracts held for trading. Foreign exchange contracts  \n",
       "0                                                0.0                        \n",
       "1                                                0.0                        \n",
       "2                                                0.0                        \n",
       "\n",
       "[3 rows x 22 columns]"
      ]
     },
     "execution_count": 253,
     "metadata": {},
     "output_type": "execute_result"
    }
   ],
   "source": [
    "df[:3]"
   ]
  },
  {
   "cell_type": "markdown",
   "metadata": {},
   "source": [
    "Add to df a column[Quarter] to specify the quarters "
   ]
  },
  {
   "cell_type": "code",
   "execution_count": 254,
   "metadata": {
    "collapsed": false
   },
   "outputs": [],
   "source": [
    "df[\"Reporting Date\"] = df[\"Reporting Date\"].astype('str')"
   ]
  },
  {
   "cell_type": "code",
   "execution_count": 255,
   "metadata": {
    "collapsed": false
   },
   "outputs": [
    {
     "data": {
      "text/plain": [
       "511279"
      ]
     },
     "execution_count": 255,
     "metadata": {},
     "output_type": "execute_result"
    }
   ],
   "source": [
    "quarter1 = []\n",
    "for i in df[\"Reporting Date\"]:\n",
    "    if i[4:6] == \"03\":\n",
    "        i = \"Q\"+ \"1\" +\" \" +i[0:4]\n",
    "        quarter1.append(i)\n",
    "    elif i[4:6] == \"06\":\n",
    "        i = \"Q\"+ \"2\" +\" \" +i[0:4]\n",
    "        quarter1.append(i)\n",
    "    elif i[4:6] == \"09\":\n",
    "        i = \"Q\"+ \"3\" +\" \" +i[0:4]\n",
    "        quarter1.append(i)\n",
    "    else:\n",
    "        i = \"Q\"+ \"4\" +\" \" +i[0:4]\n",
    "        quarter1.append(i)\n",
    "\n",
    "len(quarter1)"
   ]
  },
  {
   "cell_type": "code",
   "execution_count": 256,
   "metadata": {
    "collapsed": true
   },
   "outputs": [],
   "source": [
    "df[\"Quarter\"]= quarter1"
   ]
  },
  {
   "cell_type": "code",
   "execution_count": 257,
   "metadata": {
    "collapsed": false
   },
   "outputs": [],
   "source": [
    "df1 = df.drop(['Bank Name','City','State','Zip Code','Date established'],axis =1)"
   ]
  },
  {
   "cell_type": "code",
   "execution_count": 258,
   "metadata": {
    "collapsed": false
   },
   "outputs": [
    {
     "data": {
      "text/html": [
       "<div>\n",
       "<table border=\"1\" class=\"dataframe\">\n",
       "  <thead>\n",
       "    <tr style=\"text-align: right;\">\n",
       "      <th></th>\n",
       "      <th>Loan Loss Provision</th>\n",
       "      <th>Net Income</th>\n",
       "      <th>Total Loan Recoveries</th>\n",
       "      <th>Total Loan Charge-offs</th>\n",
       "      <th>Bank ID</th>\n",
       "      <th>Reporting Date</th>\n",
       "      <th>Cash</th>\n",
       "      <th>Available-for-sale securities</th>\n",
       "      <th>Total Loan, net of unearned income</th>\n",
       "      <th>Fixed Assets</th>\n",
       "      <th>Total Assets</th>\n",
       "      <th>Total Equity</th>\n",
       "      <th>Total derivative contracts held for trading. Equity exchange contracts</th>\n",
       "      <th>Total derivative contracts held for trading. Commodity and other contracts</th>\n",
       "      <th>Current credit exposure across all off-balance sheet derivatives            contract covered by the risk based capital standards</th>\n",
       "      <th>Total derivative contracts            held for trading. Interest rate contracts</th>\n",
       "      <th>Total derivative contracts held for trading. Foreign exchange contracts</th>\n",
       "      <th>Quarter</th>\n",
       "    </tr>\n",
       "  </thead>\n",
       "  <tbody>\n",
       "    <tr>\n",
       "      <th>220818</th>\n",
       "      <td>360.0</td>\n",
       "      <td>2501.0</td>\n",
       "      <td>112.0</td>\n",
       "      <td>124.0</td>\n",
       "      <td>573335</td>\n",
       "      <td>20061231</td>\n",
       "      <td>4290.0</td>\n",
       "      <td>43682.0</td>\n",
       "      <td>112690.0</td>\n",
       "      <td>2563.0</td>\n",
       "      <td>173663.0</td>\n",
       "      <td>14813.0</td>\n",
       "      <td>0.0</td>\n",
       "      <td>0.0</td>\n",
       "      <td>0.0</td>\n",
       "      <td>0.0</td>\n",
       "      <td>0.0</td>\n",
       "      <td>Q4 2006</td>\n",
       "    </tr>\n",
       "  </tbody>\n",
       "</table>\n",
       "</div>"
      ],
      "text/plain": [
       "        Loan Loss Provision  Net Income  Total Loan Recoveries  \\\n",
       "220818                360.0      2501.0                  112.0   \n",
       "\n",
       "        Total Loan Charge-offs  Bank ID Reporting Date    Cash  \\\n",
       "220818                   124.0   573335       20061231  4290.0   \n",
       "\n",
       "        Available-for-sale securities  Total Loan, net of unearned income  \\\n",
       "220818                        43682.0                            112690.0   \n",
       "\n",
       "        Fixed Assets  Total Assets  Total Equity  \\\n",
       "220818        2563.0      173663.0       14813.0   \n",
       "\n",
       "        Total derivative contracts held for trading. Equity exchange contracts  \\\n",
       "220818                                                0.0                        \n",
       "\n",
       "        Total derivative contracts held for trading. Commodity and other contracts  \\\n",
       "220818                                                0.0                            \n",
       "\n",
       "        Current credit exposure across all off-balance sheet derivatives            contract covered by the risk based capital standards  \\\n",
       "220818                                                0.0                                                                                  \n",
       "\n",
       "        Total derivative contracts            held for trading. Interest rate contracts  \\\n",
       "220818                                                0.0                                 \n",
       "\n",
       "        Total derivative contracts held for trading. Foreign exchange contracts  \\\n",
       "220818                                                0.0                         \n",
       "\n",
       "        Quarter  \n",
       "220818  Q4 2006  "
      ]
     },
     "execution_count": 258,
     "metadata": {},
     "output_type": "execute_result"
    }
   ],
   "source": [
    "df1.sample()"
   ]
  },
  {
   "cell_type": "markdown",
   "metadata": {},
   "source": [
    "Combine macro variables and banks related variables into 1 data frame"
   ]
  },
  {
   "cell_type": "code",
   "execution_count": 259,
   "metadata": {
    "collapsed": false
   },
   "outputs": [],
   "source": [
    "df2 = pd.merge(df1, macro_data, how ='outer')"
   ]
  },
  {
   "cell_type": "code",
   "execution_count": 260,
   "metadata": {
    "collapsed": false
   },
   "outputs": [
    {
     "name": "stdout",
     "output_type": "stream",
     "text": [
      "<class 'pandas.core.frame.DataFrame'>\n",
      "Int64Index: 511279 entries, 0 to 511278\n",
      "Data columns (total 21 columns):\n",
      "Loan Loss Provision                                                                                                                 441710 non-null float64\n",
      "Net Income                                                                                                                          441982 non-null float64\n",
      "Total Loan Recoveries                                                                                                               441654 non-null float64\n",
      "Total Loan Charge-offs                                                                                                              438611 non-null float64\n",
      "Bank ID                                                                                                                             511279 non-null int64\n",
      "Reporting Date                                                                                                                      511279 non-null object\n",
      "Cash                                                                                                                                457733 non-null float64\n",
      "Available-for-sale securities                                                                                                       456025 non-null float64\n",
      "Total Loan, net of unearned income                                                                                                  458520 non-null float64\n",
      "Fixed Assets                                                                                                                        441964 non-null float64\n",
      "Total Assets                                                                                                                        458732 non-null float64\n",
      "Total Equity                                                                                                                        442375 non-null float64\n",
      "Total derivative contracts held for trading. Equity exchange contracts                                                              454845 non-null float64\n",
      "Total derivative contracts held for trading. Commodity and other contracts                                                          454855 non-null float64\n",
      "Current credit exposure across all off-balance sheet derivatives            contract covered by the risk based capital standards    436074 non-null float64\n",
      "Total derivative contracts            held for trading. Interest rate contracts                                                     454895 non-null float64\n",
      "Total derivative contracts held for trading. Foreign exchange contracts                                                             454879 non-null float64\n",
      "Quarter                                                                                                                             511279 non-null object\n",
      "Real GDP ($M)                                                                                                                       511279 non-null int64\n",
      "Inflation (CPI, base year 2010 =100)                                                                                                511279 non-null float64\n",
      "Slope of yeild curve                                                                                                                511279 non-null float64\n",
      "dtypes: float64(17), int64(2), object(2)\n",
      "memory usage: 85.8+ MB\n"
     ]
    }
   ],
   "source": [
    "df2.info()"
   ]
  },
  {
   "cell_type": "code",
   "execution_count": 261,
   "metadata": {
    "collapsed": false
   },
   "outputs": [],
   "source": [
    "df2[\"Net Charge-off\"] = df2[\"Total Loan Charge-offs\"] - df2[\"Total Loan Recoveries\"]\n",
    "\n",
    "df2[\"ROA\"] =df2[\"Net Income\"]/df2[\"Total Assets\"]\n",
    "\n",
    "df2[\"ROE\"] = df2[\"Net Income\"]/df2[\"Total Equity\"]\n",
    "\n",
    "df2[\"Loan Loss Provision %\"] = df2[\"Loan Loss Provision\"]/df2[\"Total Loan, \\\n",
    "net of unearned income\"]\n",
    "\n",
    "df2[\"Net Charge Off-to-Loans\"] = df2[\"Net Charge-off\"]/df2[\"Total Loan, net of unearned income\"]\n",
    "\n",
    "df2[\"Liquidity\"] = (df2[\"Cash\"]+df2[\"Available-for-sale securities\"])/df2[\"Total Assets\"]\n",
    "\n",
    "df2[\"Bank Size\"] = np.log(df2[\"Total Assets\"].astype(\"float64\"))\n",
    "\n",
    "df2[\"Loan-to-Assets\"] = df2[\"Total Loan, net of unearned income\"]/df2[\"Total Assets\"]\n",
    "\n",
    "df2[\"Leverage\"] = df2[\"Total Equity\"]/df2[\"Total Assets\"]\n",
    "\n",
    "df2[\"Fixed Assets-to-Assets\"] = df2[\"Fixed Assets\"]/df2[\"Total Assets\"]\n"
   ]
  },
  {
   "cell_type": "code",
   "execution_count": 262,
   "metadata": {
    "collapsed": false
   },
   "outputs": [
    {
     "data": {
      "text/plain": [
       "array([    11,     29,     31, ..., 511276, 511277, 511278], dtype=int64)"
      ]
     },
     "execution_count": 262,
     "metadata": {},
     "output_type": "execute_result"
    }
   ],
   "source": [
    "pd.isnull(df2).any(1).nonzero()[0]"
   ]
  },
  {
   "cell_type": "markdown",
   "metadata": {},
   "source": [
    "Drop rows where ROA and ROE are NaN"
   ]
  },
  {
   "cell_type": "code",
   "execution_count": 263,
   "metadata": {
    "collapsed": false
   },
   "outputs": [],
   "source": [
    "df3 = df2[df2['ROA'].notnull() & df2['ROE'].notnull()]"
   ]
  },
  {
   "cell_type": "code",
   "execution_count": 264,
   "metadata": {
    "collapsed": false
   },
   "outputs": [
    {
     "name": "stdout",
     "output_type": "stream",
     "text": [
      "<class 'pandas.core.frame.DataFrame'>\n",
      "Int64Index: 441900 entries, 0 to 511270\n",
      "Data columns (total 31 columns):\n",
      "Loan Loss Provision                                                                                                                 441638 non-null float64\n",
      "Net Income                                                                                                                          441900 non-null float64\n",
      "Total Loan Recoveries                                                                                                               441575 non-null float64\n",
      "Total Loan Charge-offs                                                                                                              438609 non-null float64\n",
      "Bank ID                                                                                                                             441900 non-null int64\n",
      "Reporting Date                                                                                                                      441900 non-null object\n",
      "Cash                                                                                                                                440924 non-null float64\n",
      "Available-for-sale securities                                                                                                       439397 non-null float64\n",
      "Total Loan, net of unearned income                                                                                                  441733 non-null float64\n",
      "Fixed Assets                                                                                                                        441765 non-null float64\n",
      "Total Assets                                                                                                                        441900 non-null float64\n",
      "Total Equity                                                                                                                        441900 non-null float64\n",
      "Total derivative contracts held for trading. Equity exchange contracts                                                              438609 non-null float64\n",
      "Total derivative contracts held for trading. Commodity and other contracts                                                          438609 non-null float64\n",
      "Current credit exposure across all off-balance sheet derivatives            contract covered by the risk based capital standards    436071 non-null float64\n",
      "Total derivative contracts            held for trading. Interest rate contracts                                                     438609 non-null float64\n",
      "Total derivative contracts held for trading. Foreign exchange contracts                                                             438609 non-null float64\n",
      "Quarter                                                                                                                             441900 non-null object\n",
      "Real GDP ($M)                                                                                                                       441900 non-null int64\n",
      "Inflation (CPI, base year 2010 =100)                                                                                                441900 non-null float64\n",
      "Slope of yeild curve                                                                                                                441900 non-null float64\n",
      "Net Charge-off                                                                                                                      438609 non-null float64\n",
      "ROA                                                                                                                                 441900 non-null float64\n",
      "ROE                                                                                                                                 441900 non-null float64\n",
      "Loan Loss Provision %                                                                                                               435560 non-null float64\n",
      "Net Charge Off-to-Loans                                                                                                             433852 non-null float64\n",
      "Liquidity                                                                                                                           439395 non-null float64\n",
      "Bank Size                                                                                                                           441900 non-null float64\n",
      "Loan-to-Assets                                                                                                                      441726 non-null float64\n",
      "Leverage                                                                                                                            441895 non-null float64\n",
      "Fixed Assets-to-Assets                                                                                                              441758 non-null float64\n",
      "dtypes: float64(27), int64(2), object(2)\n",
      "memory usage: 107.9+ MB\n"
     ]
    }
   ],
   "source": [
    "df3.info()"
   ]
  },
  {
   "cell_type": "code",
   "execution_count": 265,
   "metadata": {
    "collapsed": false
   },
   "outputs": [
    {
     "data": {
      "text/html": [
       "<div>\n",
       "<table border=\"1\" class=\"dataframe\">\n",
       "  <thead>\n",
       "    <tr style=\"text-align: right;\">\n",
       "      <th></th>\n",
       "      <th>Loan Loss Provision</th>\n",
       "      <th>Net Income</th>\n",
       "      <th>Total Loan Recoveries</th>\n",
       "      <th>Total Loan Charge-offs</th>\n",
       "      <th>Bank ID</th>\n",
       "      <th>Reporting Date</th>\n",
       "      <th>Cash</th>\n",
       "      <th>Available-for-sale securities</th>\n",
       "      <th>Total Loan, net of unearned income</th>\n",
       "      <th>Fixed Assets</th>\n",
       "      <th>...</th>\n",
       "      <th>Net Charge-off</th>\n",
       "      <th>ROA</th>\n",
       "      <th>ROE</th>\n",
       "      <th>Loan Loss Provision %</th>\n",
       "      <th>Net Charge Off-to-Loans</th>\n",
       "      <th>Liquidity</th>\n",
       "      <th>Bank Size</th>\n",
       "      <th>Loan-to-Assets</th>\n",
       "      <th>Leverage</th>\n",
       "      <th>Fixed Assets-to-Assets</th>\n",
       "    </tr>\n",
       "  </thead>\n",
       "  <tbody>\n",
       "    <tr>\n",
       "      <th>0</th>\n",
       "      <td>27.0</td>\n",
       "      <td>221.0</td>\n",
       "      <td>26.0</td>\n",
       "      <td>24.0</td>\n",
       "      <td>37</td>\n",
       "      <td>20000331</td>\n",
       "      <td>1436.0</td>\n",
       "      <td>198.0</td>\n",
       "      <td>36620.0</td>\n",
       "      <td>614.0</td>\n",
       "      <td>...</td>\n",
       "      <td>-2.0</td>\n",
       "      <td>0.003448</td>\n",
       "      <td>0.020637</td>\n",
       "      <td>0.000737</td>\n",
       "      <td>-0.000055</td>\n",
       "      <td>0.025496</td>\n",
       "      <td>11.068012</td>\n",
       "      <td>0.571402</td>\n",
       "      <td>0.167098</td>\n",
       "      <td>0.009581</td>\n",
       "    </tr>\n",
       "    <tr>\n",
       "      <th>1</th>\n",
       "      <td>0.0</td>\n",
       "      <td>69.0</td>\n",
       "      <td>4.0</td>\n",
       "      <td>2.0</td>\n",
       "      <td>242</td>\n",
       "      <td>20000331</td>\n",
       "      <td>774.0</td>\n",
       "      <td>9803.0</td>\n",
       "      <td>11710.0</td>\n",
       "      <td>324.0</td>\n",
       "      <td>...</td>\n",
       "      <td>-2.0</td>\n",
       "      <td>0.003021</td>\n",
       "      <td>0.021725</td>\n",
       "      <td>0.000000</td>\n",
       "      <td>-0.000171</td>\n",
       "      <td>0.463111</td>\n",
       "      <td>10.036225</td>\n",
       "      <td>0.512719</td>\n",
       "      <td>0.139060</td>\n",
       "      <td>0.014186</td>\n",
       "    </tr>\n",
       "    <tr>\n",
       "      <th>2</th>\n",
       "      <td>0.0</td>\n",
       "      <td>166.0</td>\n",
       "      <td>0.0</td>\n",
       "      <td>0.0</td>\n",
       "      <td>279</td>\n",
       "      <td>20000331</td>\n",
       "      <td>1351.0</td>\n",
       "      <td>28282.0</td>\n",
       "      <td>20456.0</td>\n",
       "      <td>603.0</td>\n",
       "      <td>...</td>\n",
       "      <td>0.0</td>\n",
       "      <td>0.001816</td>\n",
       "      <td>0.012053</td>\n",
       "      <td>0.000000</td>\n",
       "      <td>0.000000</td>\n",
       "      <td>0.324234</td>\n",
       "      <td>11.422935</td>\n",
       "      <td>0.223822</td>\n",
       "      <td>0.150699</td>\n",
       "      <td>0.006598</td>\n",
       "    </tr>\n",
       "  </tbody>\n",
       "</table>\n",
       "<p>3 rows × 31 columns</p>\n",
       "</div>"
      ],
      "text/plain": [
       "   Loan Loss Provision  Net Income  Total Loan Recoveries  \\\n",
       "0                 27.0       221.0                   26.0   \n",
       "1                  0.0        69.0                    4.0   \n",
       "2                  0.0       166.0                    0.0   \n",
       "\n",
       "   Total Loan Charge-offs  Bank ID Reporting Date    Cash  \\\n",
       "0                    24.0       37       20000331  1436.0   \n",
       "1                     2.0      242       20000331   774.0   \n",
       "2                     0.0      279       20000331  1351.0   \n",
       "\n",
       "   Available-for-sale securities  Total Loan, net of unearned income  \\\n",
       "0                          198.0                             36620.0   \n",
       "1                         9803.0                             11710.0   \n",
       "2                        28282.0                             20456.0   \n",
       "\n",
       "   Fixed Assets           ...            Net Charge-off       ROA       ROE  \\\n",
       "0         614.0           ...                      -2.0  0.003448  0.020637   \n",
       "1         324.0           ...                      -2.0  0.003021  0.021725   \n",
       "2         603.0           ...                       0.0  0.001816  0.012053   \n",
       "\n",
       "   Loan Loss Provision %  Net Charge Off-to-Loans  Liquidity  Bank Size  \\\n",
       "0               0.000737                -0.000055   0.025496  11.068012   \n",
       "1               0.000000                -0.000171   0.463111  10.036225   \n",
       "2               0.000000                 0.000000   0.324234  11.422935   \n",
       "\n",
       "  Loan-to-Assets  Leverage  Fixed Assets-to-Assets  \n",
       "0       0.571402  0.167098                0.009581  \n",
       "1       0.512719  0.139060                0.014186  \n",
       "2       0.223822  0.150699                0.006598  \n",
       "\n",
       "[3 rows x 31 columns]"
      ]
     },
     "execution_count": 265,
     "metadata": {},
     "output_type": "execute_result"
    }
   ],
   "source": [
    "df3[:3]"
   ]
  },
  {
   "cell_type": "markdown",
   "metadata": {},
   "source": [
    "Add a new column specifing only the quarters, then use that column to create dummy variables"
   ]
  },
  {
   "cell_type": "code",
   "execution_count": 266,
   "metadata": {
    "collapsed": false
   },
   "outputs": [
    {
     "data": {
      "text/plain": [
       "['1', '2', '3', '4']"
      ]
     },
     "execution_count": 266,
     "metadata": {},
     "output_type": "execute_result"
    }
   ],
   "source": [
    "quarter2 = []\n",
    "for i in df3[\"Quarter\"]:\n",
    "    quarter2.append(i[1])\n",
    "\n",
    "# create funtion to return unique values of a list.    \n",
    "def unique(llist):\n",
    "    unique = []\n",
    "    for i in llist:\n",
    "        if i not in unique:\n",
    "            unique.append(i)\n",
    "    return unique\n",
    "\n",
    "unique(quarter2)"
   ]
  },
  {
   "cell_type": "code",
   "execution_count": 267,
   "metadata": {
    "collapsed": false
   },
   "outputs": [
    {
     "name": "stderr",
     "output_type": "stream",
     "text": [
      "C:\\Users\\thanh\\AppData\\Local\\Enthought\\Canopy\\User\\lib\\site-packages\\ipykernel\\__main__.py:1: SettingWithCopyWarning: \n",
      "A value is trying to be set on a copy of a slice from a DataFrame.\n",
      "Try using .loc[row_indexer,col_indexer] = value instead\n",
      "\n",
      "See the caveats in the documentation: http://pandas.pydata.org/pandas-docs/stable/indexing.html#indexing-view-versus-copy\n",
      "  if __name__ == '__main__':\n"
     ]
    }
   ],
   "source": [
    "df3['Quarter ID'] = quarter2"
   ]
  },
  {
   "cell_type": "code",
   "execution_count": 268,
   "metadata": {
    "collapsed": false
   },
   "outputs": [],
   "source": [
    "df3_quarterID = pd.get_dummies(df3['Quarter ID'])"
   ]
  },
  {
   "cell_type": "code",
   "execution_count": 269,
   "metadata": {
    "collapsed": false
   },
   "outputs": [],
   "source": [
    "df4 = pd.concat([df3, df3_quarterID],axis =1 )"
   ]
  },
  {
   "cell_type": "markdown",
   "metadata": {},
   "source": [
    "Drop column '1' as it's redundant"
   ]
  },
  {
   "cell_type": "code",
   "execution_count": 270,
   "metadata": {
    "collapsed": false
   },
   "outputs": [],
   "source": [
    "df4 = df4.drop(['1'],axis =1)"
   ]
  },
  {
   "cell_type": "code",
   "execution_count": 271,
   "metadata": {
    "collapsed": false
   },
   "outputs": [
    {
     "data": {
      "text/html": [
       "<div>\n",
       "<table border=\"1\" class=\"dataframe\">\n",
       "  <thead>\n",
       "    <tr style=\"text-align: right;\">\n",
       "      <th></th>\n",
       "      <th>Loan Loss Provision</th>\n",
       "      <th>Net Income</th>\n",
       "      <th>Total Loan Recoveries</th>\n",
       "      <th>Total Loan Charge-offs</th>\n",
       "      <th>Bank ID</th>\n",
       "      <th>Reporting Date</th>\n",
       "      <th>Cash</th>\n",
       "      <th>Available-for-sale securities</th>\n",
       "      <th>Total Loan, net of unearned income</th>\n",
       "      <th>Fixed Assets</th>\n",
       "      <th>...</th>\n",
       "      <th>Net Charge Off-to-Loans</th>\n",
       "      <th>Liquidity</th>\n",
       "      <th>Bank Size</th>\n",
       "      <th>Loan-to-Assets</th>\n",
       "      <th>Leverage</th>\n",
       "      <th>Fixed Assets-to-Assets</th>\n",
       "      <th>Quarter ID</th>\n",
       "      <th>2</th>\n",
       "      <th>3</th>\n",
       "      <th>4</th>\n",
       "    </tr>\n",
       "  </thead>\n",
       "  <tbody>\n",
       "    <tr>\n",
       "      <th>240666</th>\n",
       "      <td>228.0</td>\n",
       "      <td>5023.0</td>\n",
       "      <td>0.0</td>\n",
       "      <td>0.0</td>\n",
       "      <td>759045</td>\n",
       "      <td>20061231</td>\n",
       "      <td>4336.0</td>\n",
       "      <td>32792.0</td>\n",
       "      <td>244804.0</td>\n",
       "      <td>7337.0</td>\n",
       "      <td>...</td>\n",
       "      <td>0.0</td>\n",
       "      <td>0.124278</td>\n",
       "      <td>12.607359</td>\n",
       "      <td>0.81943</td>\n",
       "      <td>0.102661</td>\n",
       "      <td>0.024559</td>\n",
       "      <td>4</td>\n",
       "      <td>0.0</td>\n",
       "      <td>0.0</td>\n",
       "      <td>1.0</td>\n",
       "    </tr>\n",
       "  </tbody>\n",
       "</table>\n",
       "<p>1 rows × 35 columns</p>\n",
       "</div>"
      ],
      "text/plain": [
       "        Loan Loss Provision  Net Income  Total Loan Recoveries  \\\n",
       "240666                228.0      5023.0                    0.0   \n",
       "\n",
       "        Total Loan Charge-offs  Bank ID Reporting Date    Cash  \\\n",
       "240666                     0.0   759045       20061231  4336.0   \n",
       "\n",
       "        Available-for-sale securities  Total Loan, net of unearned income  \\\n",
       "240666                        32792.0                            244804.0   \n",
       "\n",
       "        Fixed Assets ...   Net Charge Off-to-Loans  Liquidity  Bank Size  \\\n",
       "240666        7337.0 ...                       0.0   0.124278  12.607359   \n",
       "\n",
       "        Loan-to-Assets  Leverage  Fixed Assets-to-Assets  Quarter ID    2  \\\n",
       "240666         0.81943  0.102661                0.024559           4  0.0   \n",
       "\n",
       "          3    4  \n",
       "240666  0.0  1.0  \n",
       "\n",
       "[1 rows x 35 columns]"
      ]
     },
     "execution_count": 271,
     "metadata": {},
     "output_type": "execute_result"
    }
   ],
   "source": [
    "df4.sample()"
   ]
  },
  {
   "cell_type": "markdown",
   "metadata": {},
   "source": [
    "Change name of column '2', '3', '4' to Q2, Q3, Q4 respectively"
   ]
  },
  {
   "cell_type": "code",
   "execution_count": 272,
   "metadata": {
    "collapsed": true
   },
   "outputs": [],
   "source": [
    "df4.rename(columns={'2': 'Q2', '3': 'Q3', '4': 'Q4'}, inplace=True)"
   ]
  },
  {
   "cell_type": "code",
   "execution_count": 273,
   "metadata": {
    "collapsed": false
   },
   "outputs": [
    {
     "data": {
      "text/html": [
       "<div>\n",
       "<table border=\"1\" class=\"dataframe\">\n",
       "  <thead>\n",
       "    <tr style=\"text-align: right;\">\n",
       "      <th></th>\n",
       "      <th>Loan Loss Provision</th>\n",
       "      <th>Net Income</th>\n",
       "      <th>Total Loan Recoveries</th>\n",
       "      <th>Total Loan Charge-offs</th>\n",
       "      <th>Bank ID</th>\n",
       "      <th>Reporting Date</th>\n",
       "      <th>Cash</th>\n",
       "      <th>Available-for-sale securities</th>\n",
       "      <th>Total Loan, net of unearned income</th>\n",
       "      <th>Fixed Assets</th>\n",
       "      <th>...</th>\n",
       "      <th>Net Charge Off-to-Loans</th>\n",
       "      <th>Liquidity</th>\n",
       "      <th>Bank Size</th>\n",
       "      <th>Loan-to-Assets</th>\n",
       "      <th>Leverage</th>\n",
       "      <th>Fixed Assets-to-Assets</th>\n",
       "      <th>Quarter ID</th>\n",
       "      <th>Q2</th>\n",
       "      <th>Q3</th>\n",
       "      <th>Q4</th>\n",
       "    </tr>\n",
       "  </thead>\n",
       "  <tbody>\n",
       "    <tr>\n",
       "      <th>255670</th>\n",
       "      <td>45.0</td>\n",
       "      <td>740.0</td>\n",
       "      <td>4.0</td>\n",
       "      <td>54.0</td>\n",
       "      <td>528241</td>\n",
       "      <td>20070630</td>\n",
       "      <td>3157.0</td>\n",
       "      <td>0.0</td>\n",
       "      <td>95880.0</td>\n",
       "      <td>1407.0</td>\n",
       "      <td>...</td>\n",
       "      <td>0.000521</td>\n",
       "      <td>0.024946</td>\n",
       "      <td>11.748409</td>\n",
       "      <td>0.757633</td>\n",
       "      <td>0.113985</td>\n",
       "      <td>0.011118</td>\n",
       "      <td>2</td>\n",
       "      <td>1.0</td>\n",
       "      <td>0.0</td>\n",
       "      <td>0.0</td>\n",
       "    </tr>\n",
       "  </tbody>\n",
       "</table>\n",
       "<p>1 rows × 35 columns</p>\n",
       "</div>"
      ],
      "text/plain": [
       "        Loan Loss Provision  Net Income  Total Loan Recoveries  \\\n",
       "255670                 45.0       740.0                    4.0   \n",
       "\n",
       "        Total Loan Charge-offs  Bank ID Reporting Date    Cash  \\\n",
       "255670                    54.0   528241       20070630  3157.0   \n",
       "\n",
       "        Available-for-sale securities  Total Loan, net of unearned income  \\\n",
       "255670                            0.0                             95880.0   \n",
       "\n",
       "        Fixed Assets ...   Net Charge Off-to-Loans  Liquidity  Bank Size  \\\n",
       "255670        1407.0 ...                  0.000521   0.024946  11.748409   \n",
       "\n",
       "        Loan-to-Assets  Leverage  Fixed Assets-to-Assets  Quarter ID   Q2  \\\n",
       "255670        0.757633  0.113985                0.011118           2  1.0   \n",
       "\n",
       "         Q3   Q4  \n",
       "255670  0.0  0.0  \n",
       "\n",
       "[1 rows x 35 columns]"
      ]
     },
     "execution_count": 273,
     "metadata": {},
     "output_type": "execute_result"
    }
   ],
   "source": [
    "df4.sample()"
   ]
  },
  {
   "cell_type": "code",
   "execution_count": 292,
   "metadata": {
    "collapsed": true
   },
   "outputs": [],
   "source": [
    "df5 = df4.drop(['Loan Loss Provision', 'Net Income', 'Total Loan Recoveries',\n",
    "       'Total Loan Charge-offs','Cash',\n",
    "       'Available-for-sale securities', 'Total Loan, net of unearned income',\n",
    "       'Fixed Assets', u'Total Assets', 'Total Equity','Quarter ID'], axis =1 )"
   ]
  },
  {
   "cell_type": "code",
   "execution_count": 293,
   "metadata": {
    "collapsed": false
   },
   "outputs": [
    {
     "name": "stdout",
     "output_type": "stream",
     "text": [
      "<class 'pandas.core.frame.DataFrame'>\n",
      "Int64Index: 441900 entries, 0 to 511270\n",
      "Data columns (total 24 columns):\n",
      "Bank ID                                                                                                                             441900 non-null int64\n",
      "Reporting Date                                                                                                                      441900 non-null object\n",
      "Total derivative contracts held for trading. Equity exchange contracts                                                              438609 non-null float64\n",
      "Total derivative contracts held for trading. Commodity and other contracts                                                          438609 non-null float64\n",
      "Current credit exposure across all off-balance sheet derivatives            contract covered by the risk based capital standards    436071 non-null float64\n",
      "Total derivative contracts            held for trading. Interest rate contracts                                                     438609 non-null float64\n",
      "Total derivative contracts held for trading. Foreign exchange contracts                                                             438609 non-null float64\n",
      "Quarter                                                                                                                             441900 non-null object\n",
      "Real GDP ($M)                                                                                                                       441900 non-null int64\n",
      "Inflation (CPI, base year 2010 =100)                                                                                                441900 non-null float64\n",
      "Slope of yeild curve                                                                                                                441900 non-null float64\n",
      "Net Charge-off                                                                                                                      438609 non-null float64\n",
      "ROA                                                                                                                                 441900 non-null float64\n",
      "ROE                                                                                                                                 441900 non-null float64\n",
      "Loan Loss Provision %                                                                                                               435560 non-null float64\n",
      "Net Charge Off-to-Loans                                                                                                             433852 non-null float64\n",
      "Liquidity                                                                                                                           439395 non-null float64\n",
      "Bank Size                                                                                                                           441900 non-null float64\n",
      "Loan-to-Assets                                                                                                                      441726 non-null float64\n",
      "Leverage                                                                                                                            441895 non-null float64\n",
      "Fixed Assets-to-Assets                                                                                                              441758 non-null float64\n",
      "Q2                                                                                                                                  441900 non-null float64\n",
      "Q3                                                                                                                                  441900 non-null float64\n",
      "Q4                                                                                                                                  441900 non-null float64\n",
      "dtypes: float64(20), int64(2), object(2)\n",
      "memory usage: 84.3+ MB\n"
     ]
    }
   ],
   "source": [
    "df5.info()"
   ]
  },
  {
   "cell_type": "markdown",
   "metadata": {},
   "source": [
    "Create dummy variables for the following variables: 'Loan Loss Provision %','Net Charge Off-to-Loans', 'Liquidity', Off-balance sheet variables"
   ]
  },
  {
   "cell_type": "markdown",
   "metadata": {},
   "source": [
    "- Create a function to generate a list composing of 2 unique values: 0, 1\n",
    "- 0 means that the corresponding value of the variable is an NaN.\n",
    "- 1 means that the corresponding value of the variable is not an NaN."
   ]
  },
  {
   "cell_type": "code",
   "execution_count": 295,
   "metadata": {
    "collapsed": false
   },
   "outputs": [],
   "source": [
    "def dummy_variable(a):\n",
    "    dummy = []\n",
    "    for i in a:\n",
    "        if np.isnan(i) == True:\n",
    "            dummy.append(0)\n",
    "        else:\n",
    "            dummy.append(1)\n",
    "    return dummy\n",
    "        "
   ]
  },
  {
   "cell_type": "code",
   "execution_count": 296,
   "metadata": {
    "collapsed": false
   },
   "outputs": [],
   "source": [
    "df5['Dummy_Loan Loss Provision %'] = dummy_variable(df5['Loan Loss Provision %'])\n",
    "\n",
    "df5['Dummy_Net Charge Off-to-Loans'] = dummy_variable(df5['Net Charge Off-to-Loans'])\n",
    "\n",
    "df5['Dummy_Liquidity'] = dummy_variable(df5['Liquidity'])\n",
    "\n",
    "df5['Dummy_OBS_Equity'] = dummy_variable(df5['Total derivative contracts held for trading. Equity exchange contracts'])\n",
    "\n",
    "df5['Dummy_OBS_Commodity&Other'] = dummy_variable(df5['Total derivative contracts held for trading. Commodity and other contracts'])\n",
    "\n",
    "df5['Dummy_OBS_Interest'] = dummy_variable(df5['Total derivative contracts            held for trading. Interest rate contracts'])\n",
    "\n",
    "df5['Dummy_OBS_FX'] = dummy_variable(df5['Total derivative contracts held for trading. Foreign exchange contracts'])\n",
    "\n",
    "df5['Dummy_OBS_Credit_exposure'] = dummy_variable(df5['Current credit exposure across all off-balance sheet derivatives            contract covered by the risk based capital standards'])"
   ]
  },
  {
   "cell_type": "code",
   "execution_count": 299,
   "metadata": {
    "collapsed": false
   },
   "outputs": [
    {
     "data": {
      "text/plain": [
       "3291"
      ]
     },
     "execution_count": 299,
     "metadata": {},
     "output_type": "execute_result"
    }
   ],
   "source": [
    "len(df5.ix[df5['Total derivative contracts held for trading. Equity exchange contracts'].isnull()])"
   ]
  },
  {
   "cell_type": "code",
   "execution_count": 300,
   "metadata": {
    "collapsed": false
   },
   "outputs": [
    {
     "data": {
      "text/plain": [
       "2505"
      ]
     },
     "execution_count": 300,
     "metadata": {},
     "output_type": "execute_result"
    }
   ],
   "source": [
    "len(df5.ix[df5['Liquidity'].isnull()])"
   ]
  },
  {
   "cell_type": "markdown",
   "metadata": {},
   "source": [
    "Fill NaN with 0"
   ]
  },
  {
   "cell_type": "code",
   "execution_count": 301,
   "metadata": {
    "collapsed": true
   },
   "outputs": [],
   "source": [
    "df6 = df5.fillna(0)"
   ]
  },
  {
   "cell_type": "code",
   "execution_count": 306,
   "metadata": {
    "collapsed": false
   },
   "outputs": [
    {
     "data": {
      "text/plain": [
       "Index([u'Bank ID', u'Reporting Date',\n",
       "       u'Total derivative contracts held for trading. Equity exchange contracts',\n",
       "       u'Total derivative contracts held for trading. Commodity and other contracts',\n",
       "       u'Current credit exposure across all off-balance sheet derivatives            contract covered by the risk based capital standards',\n",
       "       u'Total derivative contracts            held for trading. Interest rate contracts',\n",
       "       u'Total derivative contracts held for trading. Foreign exchange contracts',\n",
       "       u'Quarter', u'Real GDP ($M)', u'Inflation (CPI, base year 2010 =100)',\n",
       "       u'Slope of yeild curve', u'Net Charge-off', u'ROA', u'ROE',\n",
       "       u'Loan Loss Provision %', u'Net Charge Off-to-Loans', u'Liquidity',\n",
       "       u'Bank Size', u'Loan-to-Assets', u'Leverage', u'Fixed Assets-to-Assets',\n",
       "       u'Q2', u'Q3', u'Q4', u'Dummy_Loan Loss Provision %',\n",
       "       u'Dummy_Net Charge Off-to-Loans', u'Dummy_Liquidity',\n",
       "       u'Dummy_OBS_Equity', u'Dummy_OBS_Commodity&Other',\n",
       "       u'Dummy_OBS_Interest', u'Dummy_OBS_FX', u'Dummy_OBS_Credit_exposure'],\n",
       "      dtype='object')"
      ]
     },
     "execution_count": 306,
     "metadata": {},
     "output_type": "execute_result"
    }
   ],
   "source": [
    "df6.columns"
   ]
  },
  {
   "cell_type": "code",
   "execution_count": 307,
   "metadata": {
    "collapsed": true
   },
   "outputs": [],
   "source": [
    "df7 = df6.drop('Reporting Date', axis = 1)"
   ]
  },
  {
   "cell_type": "code",
   "execution_count": 450,
   "metadata": {
    "collapsed": false
   },
   "outputs": [],
   "source": [
    "base_df = df7[['Quarter','Bank ID','ROA','ROE','Net Charge-off',\n",
    "            'Loan Loss Provision %', 'Dummy_Loan Loss Provision %',\n",
    "             'Net Charge Off-to-Loans','Dummy_Net Charge Off-to-Loans',\n",
    "            'Liquidity', 'Dummy_Liquidity',\n",
    "             'Bank Size',\n",
    "             'Loan-to-Assets',\n",
    "             'Leverage',\n",
    "             'Fixed Assets-to-Assets',\n",
    "'Total derivative contracts held for trading. Equity exchange contracts','Dummy_OBS_Equity',\n",
    "'Total derivative contracts held for trading. Commodity and other contracts','Dummy_OBS_Commodity&Other',\n",
    "'Total derivative contracts            held for trading. Interest rate contracts','Dummy_OBS_Interest',\n",
    "'Total derivative contracts held for trading. Foreign exchange contracts','Dummy_OBS_FX',\n",
    "'Current credit exposure across all off-balance sheet derivatives            contract covered by the risk based capital standards',\n",
    "             'Dummy_OBS_Credit_exposure',\n",
    "             'Real GDP ($M)','Inflation (CPI, base year 2010 =100)','Slope of yeild curve',\n",
    "             'Q2', 'Q3', 'Q4'\n",
    "             \n",
    "            ]]"
   ]
  },
  {
   "cell_type": "code",
   "execution_count": 608,
   "metadata": {
    "collapsed": true
   },
   "outputs": [],
   "source": [
    "base_df.to_csv('base_df.csv')"
   ]
  },
  {
   "cell_type": "code",
   "execution_count": 452,
   "metadata": {
    "collapsed": false
   },
   "outputs": [
    {
     "data": {
      "text/html": [
       "<div>\n",
       "<table border=\"1\" class=\"dataframe\">\n",
       "  <thead>\n",
       "    <tr style=\"text-align: right;\">\n",
       "      <th></th>\n",
       "      <th>Quarter</th>\n",
       "      <th>Bank ID</th>\n",
       "      <th>ROA</th>\n",
       "      <th>ROE</th>\n",
       "      <th>Net Charge-off</th>\n",
       "      <th>Loan Loss Provision %</th>\n",
       "      <th>Dummy_Loan Loss Provision %</th>\n",
       "      <th>Net Charge Off-to-Loans</th>\n",
       "      <th>Dummy_Net Charge Off-to-Loans</th>\n",
       "      <th>Liquidity</th>\n",
       "      <th>...</th>\n",
       "      <th>Total derivative contracts held for trading. Foreign exchange contracts</th>\n",
       "      <th>Dummy_OBS_FX</th>\n",
       "      <th>Current credit exposure across all off-balance sheet derivatives            contract covered by the risk based capital standards</th>\n",
       "      <th>Dummy_OBS_Credit_exposure</th>\n",
       "      <th>Real GDP ($M)</th>\n",
       "      <th>Inflation (CPI, base year 2010 =100)</th>\n",
       "      <th>Slope of yeild curve</th>\n",
       "      <th>Q2</th>\n",
       "      <th>Q3</th>\n",
       "      <th>Q4</th>\n",
       "    </tr>\n",
       "  </thead>\n",
       "  <tbody>\n",
       "    <tr>\n",
       "      <th>510895</th>\n",
       "      <td>Q4 2015</td>\n",
       "      <td>3385968</td>\n",
       "      <td>0.006751</td>\n",
       "      <td>0.009222</td>\n",
       "      <td>0.0</td>\n",
       "      <td>-0.005382</td>\n",
       "      <td>1</td>\n",
       "      <td>0.0</td>\n",
       "      <td>0</td>\n",
       "      <td>0.0</td>\n",
       "      <td>...</td>\n",
       "      <td>0.0</td>\n",
       "      <td>0</td>\n",
       "      <td>0.0</td>\n",
       "      <td>0</td>\n",
       "      <td>16490681</td>\n",
       "      <td>108.8</td>\n",
       "      <td>2.11</td>\n",
       "      <td>0.0</td>\n",
       "      <td>0.0</td>\n",
       "      <td>1.0</td>\n",
       "    </tr>\n",
       "    <tr>\n",
       "      <th>511092</th>\n",
       "      <td>Q4 2015</td>\n",
       "      <td>3601097</td>\n",
       "      <td>11.907692</td>\n",
       "      <td>-0.892219</td>\n",
       "      <td>0.0</td>\n",
       "      <td>0.000000</td>\n",
       "      <td>0</td>\n",
       "      <td>0.0</td>\n",
       "      <td>0</td>\n",
       "      <td>0.0</td>\n",
       "      <td>...</td>\n",
       "      <td>0.0</td>\n",
       "      <td>0</td>\n",
       "      <td>0.0</td>\n",
       "      <td>0</td>\n",
       "      <td>16490681</td>\n",
       "      <td>108.8</td>\n",
       "      <td>2.11</td>\n",
       "      <td>0.0</td>\n",
       "      <td>0.0</td>\n",
       "      <td>1.0</td>\n",
       "    </tr>\n",
       "    <tr>\n",
       "      <th>511228</th>\n",
       "      <td>Q4 2015</td>\n",
       "      <td>3856066</td>\n",
       "      <td>0.026281</td>\n",
       "      <td>0.267250</td>\n",
       "      <td>0.0</td>\n",
       "      <td>0.000988</td>\n",
       "      <td>1</td>\n",
       "      <td>0.0</td>\n",
       "      <td>0</td>\n",
       "      <td>0.0</td>\n",
       "      <td>...</td>\n",
       "      <td>0.0</td>\n",
       "      <td>0</td>\n",
       "      <td>0.0</td>\n",
       "      <td>0</td>\n",
       "      <td>16490681</td>\n",
       "      <td>108.8</td>\n",
       "      <td>2.11</td>\n",
       "      <td>0.0</td>\n",
       "      <td>0.0</td>\n",
       "      <td>1.0</td>\n",
       "    </tr>\n",
       "    <tr>\n",
       "      <th>511254</th>\n",
       "      <td>Q4 2015</td>\n",
       "      <td>4165765</td>\n",
       "      <td>-0.280417</td>\n",
       "      <td>-0.343039</td>\n",
       "      <td>0.0</td>\n",
       "      <td>0.000000</td>\n",
       "      <td>0</td>\n",
       "      <td>0.0</td>\n",
       "      <td>0</td>\n",
       "      <td>0.0</td>\n",
       "      <td>...</td>\n",
       "      <td>0.0</td>\n",
       "      <td>0</td>\n",
       "      <td>0.0</td>\n",
       "      <td>0</td>\n",
       "      <td>16490681</td>\n",
       "      <td>108.8</td>\n",
       "      <td>2.11</td>\n",
       "      <td>0.0</td>\n",
       "      <td>0.0</td>\n",
       "      <td>1.0</td>\n",
       "    </tr>\n",
       "    <tr>\n",
       "      <th>511257</th>\n",
       "      <td>Q4 2015</td>\n",
       "      <td>4196291</td>\n",
       "      <td>0.032581</td>\n",
       "      <td>0.057506</td>\n",
       "      <td>0.0</td>\n",
       "      <td>0.027690</td>\n",
       "      <td>1</td>\n",
       "      <td>0.0</td>\n",
       "      <td>0</td>\n",
       "      <td>0.0</td>\n",
       "      <td>...</td>\n",
       "      <td>0.0</td>\n",
       "      <td>0</td>\n",
       "      <td>0.0</td>\n",
       "      <td>0</td>\n",
       "      <td>16490681</td>\n",
       "      <td>108.8</td>\n",
       "      <td>2.11</td>\n",
       "      <td>0.0</td>\n",
       "      <td>0.0</td>\n",
       "      <td>1.0</td>\n",
       "    </tr>\n",
       "    <tr>\n",
       "      <th>511267</th>\n",
       "      <td>Q4 2015</td>\n",
       "      <td>4388788</td>\n",
       "      <td>0.006383</td>\n",
       "      <td>0.006504</td>\n",
       "      <td>0.0</td>\n",
       "      <td>0.000000</td>\n",
       "      <td>0</td>\n",
       "      <td>0.0</td>\n",
       "      <td>0</td>\n",
       "      <td>0.0</td>\n",
       "      <td>...</td>\n",
       "      <td>0.0</td>\n",
       "      <td>0</td>\n",
       "      <td>0.0</td>\n",
       "      <td>0</td>\n",
       "      <td>16490681</td>\n",
       "      <td>108.8</td>\n",
       "      <td>2.11</td>\n",
       "      <td>0.0</td>\n",
       "      <td>0.0</td>\n",
       "      <td>1.0</td>\n",
       "    </tr>\n",
       "    <tr>\n",
       "      <th>511268</th>\n",
       "      <td>Q4 2015</td>\n",
       "      <td>4388797</td>\n",
       "      <td>0.005909</td>\n",
       "      <td>0.005909</td>\n",
       "      <td>0.0</td>\n",
       "      <td>0.000000</td>\n",
       "      <td>0</td>\n",
       "      <td>0.0</td>\n",
       "      <td>0</td>\n",
       "      <td>0.0</td>\n",
       "      <td>...</td>\n",
       "      <td>0.0</td>\n",
       "      <td>0</td>\n",
       "      <td>0.0</td>\n",
       "      <td>0</td>\n",
       "      <td>16490681</td>\n",
       "      <td>108.8</td>\n",
       "      <td>2.11</td>\n",
       "      <td>0.0</td>\n",
       "      <td>0.0</td>\n",
       "      <td>1.0</td>\n",
       "    </tr>\n",
       "    <tr>\n",
       "      <th>511269</th>\n",
       "      <td>Q4 2015</td>\n",
       "      <td>4392806</td>\n",
       "      <td>0.021177</td>\n",
       "      <td>0.116290</td>\n",
       "      <td>0.0</td>\n",
       "      <td>0.002640</td>\n",
       "      <td>1</td>\n",
       "      <td>0.0</td>\n",
       "      <td>0</td>\n",
       "      <td>0.0</td>\n",
       "      <td>...</td>\n",
       "      <td>0.0</td>\n",
       "      <td>0</td>\n",
       "      <td>0.0</td>\n",
       "      <td>0</td>\n",
       "      <td>16490681</td>\n",
       "      <td>108.8</td>\n",
       "      <td>2.11</td>\n",
       "      <td>0.0</td>\n",
       "      <td>0.0</td>\n",
       "      <td>1.0</td>\n",
       "    </tr>\n",
       "    <tr>\n",
       "      <th>511270</th>\n",
       "      <td>Q4 2015</td>\n",
       "      <td>4422730</td>\n",
       "      <td>0.007058</td>\n",
       "      <td>0.171535</td>\n",
       "      <td>0.0</td>\n",
       "      <td>0.002608</td>\n",
       "      <td>1</td>\n",
       "      <td>0.0</td>\n",
       "      <td>0</td>\n",
       "      <td>0.0</td>\n",
       "      <td>...</td>\n",
       "      <td>0.0</td>\n",
       "      <td>0</td>\n",
       "      <td>0.0</td>\n",
       "      <td>0</td>\n",
       "      <td>16490681</td>\n",
       "      <td>108.8</td>\n",
       "      <td>2.11</td>\n",
       "      <td>0.0</td>\n",
       "      <td>0.0</td>\n",
       "      <td>1.0</td>\n",
       "    </tr>\n",
       "  </tbody>\n",
       "</table>\n",
       "<p>9 rows × 31 columns</p>\n",
       "</div>"
      ],
      "text/plain": [
       "        Quarter  Bank ID        ROA       ROE  Net Charge-off  \\\n",
       "510895  Q4 2015  3385968   0.006751  0.009222             0.0   \n",
       "511092  Q4 2015  3601097  11.907692 -0.892219             0.0   \n",
       "511228  Q4 2015  3856066   0.026281  0.267250             0.0   \n",
       "511254  Q4 2015  4165765  -0.280417 -0.343039             0.0   \n",
       "511257  Q4 2015  4196291   0.032581  0.057506             0.0   \n",
       "511267  Q4 2015  4388788   0.006383  0.006504             0.0   \n",
       "511268  Q4 2015  4388797   0.005909  0.005909             0.0   \n",
       "511269  Q4 2015  4392806   0.021177  0.116290             0.0   \n",
       "511270  Q4 2015  4422730   0.007058  0.171535             0.0   \n",
       "\n",
       "        Loan Loss Provision %  Dummy_Loan Loss Provision %  \\\n",
       "510895              -0.005382                            1   \n",
       "511092               0.000000                            0   \n",
       "511228               0.000988                            1   \n",
       "511254               0.000000                            0   \n",
       "511257               0.027690                            1   \n",
       "511267               0.000000                            0   \n",
       "511268               0.000000                            0   \n",
       "511269               0.002640                            1   \n",
       "511270               0.002608                            1   \n",
       "\n",
       "        Net Charge Off-to-Loans  Dummy_Net Charge Off-to-Loans  Liquidity  \\\n",
       "510895                      0.0                              0        0.0   \n",
       "511092                      0.0                              0        0.0   \n",
       "511228                      0.0                              0        0.0   \n",
       "511254                      0.0                              0        0.0   \n",
       "511257                      0.0                              0        0.0   \n",
       "511267                      0.0                              0        0.0   \n",
       "511268                      0.0                              0        0.0   \n",
       "511269                      0.0                              0        0.0   \n",
       "511270                      0.0                              0        0.0   \n",
       "\n",
       "       ...   \\\n",
       "510895 ...    \n",
       "511092 ...    \n",
       "511228 ...    \n",
       "511254 ...    \n",
       "511257 ...    \n",
       "511267 ...    \n",
       "511268 ...    \n",
       "511269 ...    \n",
       "511270 ...    \n",
       "\n",
       "        Total derivative contracts held for trading. Foreign exchange contracts  \\\n",
       "510895                                                0.0                         \n",
       "511092                                                0.0                         \n",
       "511228                                                0.0                         \n",
       "511254                                                0.0                         \n",
       "511257                                                0.0                         \n",
       "511267                                                0.0                         \n",
       "511268                                                0.0                         \n",
       "511269                                                0.0                         \n",
       "511270                                                0.0                         \n",
       "\n",
       "        Dummy_OBS_FX  \\\n",
       "510895             0   \n",
       "511092             0   \n",
       "511228             0   \n",
       "511254             0   \n",
       "511257             0   \n",
       "511267             0   \n",
       "511268             0   \n",
       "511269             0   \n",
       "511270             0   \n",
       "\n",
       "        Current credit exposure across all off-balance sheet derivatives            contract covered by the risk based capital standards  \\\n",
       "510895                                                0.0                                                                                  \n",
       "511092                                                0.0                                                                                  \n",
       "511228                                                0.0                                                                                  \n",
       "511254                                                0.0                                                                                  \n",
       "511257                                                0.0                                                                                  \n",
       "511267                                                0.0                                                                                  \n",
       "511268                                                0.0                                                                                  \n",
       "511269                                                0.0                                                                                  \n",
       "511270                                                0.0                                                                                  \n",
       "\n",
       "        Dummy_OBS_Credit_exposure  Real GDP ($M)  \\\n",
       "510895                          0       16490681   \n",
       "511092                          0       16490681   \n",
       "511228                          0       16490681   \n",
       "511254                          0       16490681   \n",
       "511257                          0       16490681   \n",
       "511267                          0       16490681   \n",
       "511268                          0       16490681   \n",
       "511269                          0       16490681   \n",
       "511270                          0       16490681   \n",
       "\n",
       "        Inflation (CPI, base year 2010 =100)  Slope of yeild curve   Q2   Q3  \\\n",
       "510895                                 108.8                  2.11  0.0  0.0   \n",
       "511092                                 108.8                  2.11  0.0  0.0   \n",
       "511228                                 108.8                  2.11  0.0  0.0   \n",
       "511254                                 108.8                  2.11  0.0  0.0   \n",
       "511257                                 108.8                  2.11  0.0  0.0   \n",
       "511267                                 108.8                  2.11  0.0  0.0   \n",
       "511268                                 108.8                  2.11  0.0  0.0   \n",
       "511269                                 108.8                  2.11  0.0  0.0   \n",
       "511270                                 108.8                  2.11  0.0  0.0   \n",
       "\n",
       "         Q4  \n",
       "510895  1.0  \n",
       "511092  1.0  \n",
       "511228  1.0  \n",
       "511254  1.0  \n",
       "511257  1.0  \n",
       "511267  1.0  \n",
       "511268  1.0  \n",
       "511269  1.0  \n",
       "511270  1.0  \n",
       "\n",
       "[9 rows x 31 columns]"
      ]
     },
     "execution_count": 452,
     "metadata": {},
     "output_type": "execute_result"
    }
   ],
   "source": [
    "base_df[-9:]"
   ]
  },
  {
   "cell_type": "markdown",
   "metadata": {},
   "source": [
    "Slice Q4 2015 data"
   ]
  },
  {
   "cell_type": "code",
   "execution_count": 454,
   "metadata": {
    "collapsed": false
   },
   "outputs": [],
   "source": [
    "Q4_2015 = base_df.ix[base_df['Quarter']==\"Q4 2015\"]"
   ]
  },
  {
   "cell_type": "markdown",
   "metadata": {},
   "source": [
    "Q4 2015 has 38 entries"
   ]
  },
  {
   "cell_type": "markdown",
   "metadata": {},
   "source": [
    "Slice Q3 2015"
   ]
  },
  {
   "cell_type": "code",
   "execution_count": 572,
   "metadata": {
    "collapsed": false
   },
   "outputs": [
    {
     "data": {
      "text/plain": [
       "\"Q3_2015 = Q3_2015.drop(['ROE','Net Charge-off','Quarter','Bank ID'], axis=1)\\nQ3_2015.rename(columns={'ROA': 'ROA Q3/2015', \\n                        'Loan Loss Provision %': 'Loan Loss Provision % Q3/2015', \\n    'Dummy_Loan Loss Provision %': 'Dummy_Loan Loss Provision % Q3/2015',\\n    'Net Charge Off-to-Loans':'Net Charge Off-to-Loans Q3/2015',\\n    'Dummy_Net Charge Off-to-Loans': 'Dummy_Net Charge Off-to-Loans Q3/2015',\\n    'Liquidity': 'Liquidity Q3/3015',\\n    'Dummy_Liquidity': 'Dummy_Liquidity Q3/2015',\\n    'Bank Size': 'Bank Size Q3/2015' ,\\n             'Loan-to-Assets': 'Loan-to-Assets Q3/2015',\\n             'Leverage': 'Leverage Q3/2015' ,\\n             'Fixed Assets-to-Assets':'Fixed Assets-to-Assets Q3/2015' ,\\n'Total derivative contracts held for trading. Equity exchange contracts': 'OBS_Equity Q3/2015',\\n                        'Dummy_OBS_Equity': 'Dummy_OBS_Equity Q3/2015',\\n'Total derivative contracts held for trading. Commodity and other contracts': 'OBS_Commodity&Other Q3/2015',\\n            'Dummy_OBS_Commodity&Other': 'Dummy_OBS_Commodity&Other Q3/2015',\\n'Total derivative contracts            held for trading. Interest rate contracts':'OBS_Interest Q3/2015',\\n        'Dummy_OBS_Interest':'dummy_OBS_Interest Q3/2015',\\n'Total derivative contracts held for trading. Foreign exchange contracts': 'OBS_FX Q3/2015',\\n        'Dummy_OBS_FX': 'Dummy_OBS_FX Q3/2015',\\n'Current credit exposure across all off-balance sheet derivatives            contract covered by the risk based capital standards':'OBS Credit Exposure Q3/2015',\\n             'Dummy_OBS_Credit_exposure': 'Dummy_OBS_Credit_exposure Q3/2015',\\n             'Real GDP ($M)': 'Real GDP ($M) Q3/2015',\\n            'Inflation (CPI, base year 2010 =100)':'Inflation Q3/2015',\\n            'Slope of yeild curve': 'Slope of yeild curve Q3/2015',\\n             'Q2' :'Q2 Q3/2015', \\n            'Q3': 'Q3 Q3/2015', \\n            'Q4':'Q4 Q3/2015'\\n                       }, inplace=True)\""
      ]
     },
     "execution_count": 572,
     "metadata": {},
     "output_type": "execute_result"
    }
   ],
   "source": [
    "Q3_2015 = base_df.ix[base_df['Quarter']==\"Q3 2015\"]\n",
    "\n",
    "\"\"\"Q3_2015 = Q3_2015.drop(['ROE','Net Charge-off','Quarter','Bank ID'], axis=1)\n",
    "Q3_2015.rename(columns={'ROA': 'ROA Q3/2015', \n",
    "                        'Loan Loss Provision %': 'Loan Loss Provision % Q3/2015', \n",
    "    'Dummy_Loan Loss Provision %': 'Dummy_Loan Loss Provision % Q3/2015',\n",
    "    'Net Charge Off-to-Loans':'Net Charge Off-to-Loans Q3/2015',\n",
    "    'Dummy_Net Charge Off-to-Loans': 'Dummy_Net Charge Off-to-Loans Q3/2015',\n",
    "    'Liquidity': 'Liquidity Q3/3015',\n",
    "    'Dummy_Liquidity': 'Dummy_Liquidity Q3/2015',\n",
    "    'Bank Size': 'Bank Size Q3/2015' ,\n",
    "             'Loan-to-Assets': 'Loan-to-Assets Q3/2015',\n",
    "             'Leverage': 'Leverage Q3/2015' ,\n",
    "             'Fixed Assets-to-Assets':'Fixed Assets-to-Assets Q3/2015' ,\n",
    "'Total derivative contracts held for trading. Equity exchange contracts': 'OBS_Equity Q3/2015',\n",
    "                        'Dummy_OBS_Equity': 'Dummy_OBS_Equity Q3/2015',\n",
    "'Total derivative contracts held for trading. Commodity and other contracts': 'OBS_Commodity&Other Q3/2015',\n",
    "            'Dummy_OBS_Commodity&Other': 'Dummy_OBS_Commodity&Other Q3/2015',\n",
    "'Total derivative contracts            held for trading. Interest rate contracts':'OBS_Interest Q3/2015',\n",
    "        'Dummy_OBS_Interest':'dummy_OBS_Interest Q3/2015',\n",
    "'Total derivative contracts held for trading. Foreign exchange contracts': 'OBS_FX Q3/2015',\n",
    "        'Dummy_OBS_FX': 'Dummy_OBS_FX Q3/2015',\n",
    "'Current credit exposure across all off-balance sheet derivatives            contract covered \\\n",
    "by the risk based capital standards':'OBS Credit Exposure Q3/2015',\n",
    "             'Dummy_OBS_Credit_exposure': 'Dummy_OBS_Credit_exposure Q3/2015',\n",
    "             'Real GDP ($M)': 'Real GDP ($M) Q3/2015',\n",
    "            'Inflation (CPI, base year 2010 =100)':'Inflation Q3/2015',\n",
    "            'Slope of yeild curve': 'Slope of yeild curve Q3/2015',\n",
    "             'Q2' :'Q2 Q3/2015', \n",
    "            'Q3': 'Q3 Q3/2015', \n",
    "            'Q4':'Q4 Q3/2015'\n",
    "                       }, inplace=True)\"\"\""
   ]
  },
  {
   "cell_type": "code",
   "execution_count": 573,
   "metadata": {
    "collapsed": false
   },
   "outputs": [],
   "source": [
    "Q3_2015 = Q3_2015['ROA']\n"
   ]
  },
  {
   "cell_type": "code",
   "execution_count": 574,
   "metadata": {
    "collapsed": false
   },
   "outputs": [
    {
     "data": {
      "text/plain": [
       "498328    0.019933\n",
       "499042   -0.154141\n",
       "499926    0.013786\n",
       "500904    0.003439\n",
       "501023    0.003605\n",
       "Name: ROA, dtype: float64"
      ]
     },
     "execution_count": 574,
     "metadata": {},
     "output_type": "execute_result"
    }
   ],
   "source": [
    "Q3_2015.head()"
   ]
  },
  {
   "cell_type": "code",
   "execution_count": 576,
   "metadata": {
    "collapsed": false
   },
   "outputs": [
    {
     "name": "stdout",
     "output_type": "stream",
     "text": [
      "<class 'pandas.core.frame.DataFrame'>\n",
      "RangeIndex: 31 entries, 0 to 30\n",
      "Data columns (total 1 columns):\n",
      "ROA Q3/2015    31 non-null float64\n",
      "dtypes: float64(1)\n",
      "memory usage: 320.0 bytes\n"
     ]
    }
   ],
   "source": [
    "Q3_2015 = Q3_2015.reset_index()\n",
    "Q3_2015 = Q3_2015.drop(['index'],axis=1)\n",
    "Q3_2015 = Q3_2015.rename(columns={'ROA': 'ROA Q3/2015'})\n",
    "Q3_2015.info()"
   ]
  },
  {
   "cell_type": "markdown",
   "metadata": {},
   "source": [
    "Q3_2015 has 31 entries"
   ]
  },
  {
   "cell_type": "markdown",
   "metadata": {},
   "source": [
    "Slice Q2 2015"
   ]
  },
  {
   "cell_type": "code",
   "execution_count": 462,
   "metadata": {
    "collapsed": false
   },
   "outputs": [],
   "source": [
    "Q2_2015 = base_df.ix[base_df['Quarter']==\"Q2 2015\"]\n",
    "Q2_2015 = Q2_2015.drop(['ROE','Net Charge-off','Quarter','Bank ID'], axis=1)\n",
    "Q2_2015.rename(columns={'ROA': 'ROA Q2/2015', \n",
    "                        'Loan Loss Provision %': 'Loan Loss Provision % Q2/2015', \n",
    "    'Dummy_Loan Loss Provision %': 'Dummy_Loan Loss Provision % Q2/2015',\n",
    "    'Net Charge Off-to-Loans':'Net Charge Off-to-Loans Q2/2015',\n",
    "    'Dummy_Net Charge Off-to-Loans': 'Dummy_Net Charge Off-to-Loans Q2/2015',\n",
    "    'Liquidity': 'Liquidity Q2/2015',\n",
    "    'Dummy_Liquidity': 'Dummy_Liquidity Q2/2015',\n",
    "    'Bank Size': 'Bank Size Q2/2015' ,\n",
    "             'Loan-to-Assets': 'Loan-to-Assets Q2/2015',\n",
    "             'Leverage': 'Leverage Q2/2015' ,\n",
    "             'Fixed Assets-to-Assets':'Fixed Assets-to-Assets Q2/2015' ,\n",
    "'Total derivative contracts held for trading. Equity exchange contracts': 'OBS_Equity Q2/2015',\n",
    "                        'Dummy_OBS_Equity': 'Dummy_OBS_Equity Q2/2015',\n",
    "'Total derivative contracts held for trading. Commodity and other contracts': 'OBS_Commodity&Other Q2/2015',\n",
    "            'Dummy_OBS_Commodity&Other': 'Dummy_OBS_Commodity&Other Q2/2015',\n",
    "'Total derivative contracts            held for trading. Interest rate contracts':'OBS_Interest Q2/2015',\n",
    "        'Dummy_OBS_Interest':'dummy_OBS_Interest Q2/2015',\n",
    "'Total derivative contracts held for trading. Foreign exchange contracts': 'OBS_FX Q2/2015',\n",
    "        'Dummy_OBS_FX': 'Dummy_OBS_FX Q2/2015',\n",
    "'Current credit exposure across all off-balance sheet derivatives            contract covered \\\n",
    "by the risk based capital standards':'OBS Credit Exposure Q2/2015',\n",
    "             'Dummy_OBS_Credit_exposure': 'Dummy_OBS_Credit_exposure Q2/2015',\n",
    "             'Real GDP ($M)': 'Real GDP ($M) Q2/2015',\n",
    "            'Inflation (CPI, base year 2010 =100)':'Inflation Q2/2015',\n",
    "            'Slope of yeild curve': 'Slope of yeild curve Q2/2015',\n",
    "             'Q2' :'Q2 Q2/2015', \n",
    "            'Q3': 'Q3 Q2/2015', \n",
    "            'Q4':'Q4 Q2/2015'\n",
    "                       }, inplace=True)"
   ]
  },
  {
   "cell_type": "code",
   "execution_count": 463,
   "metadata": {
    "collapsed": false
   },
   "outputs": [],
   "source": [
    "Q2_2015 = Q2_2015.reset_index()\n",
    "Q2_2015 = Q2_2015.drop(['index'],axis=1)"
   ]
  },
  {
   "cell_type": "markdown",
   "metadata": {},
   "source": [
    "Q2_2015 has 31 entries"
   ]
  },
  {
   "cell_type": "markdown",
   "metadata": {},
   "source": [
    "Slice Q1 2015"
   ]
  },
  {
   "cell_type": "code",
   "execution_count": 464,
   "metadata": {
    "collapsed": false
   },
   "outputs": [],
   "source": [
    "Q1_2015 = base_df.ix[base_df['Quarter']==\"Q1 2015\"]\n",
    "Q1_2015 = Q1_2015.drop(['ROE','Net Charge-off','Quarter','Bank ID'], axis=1)\n",
    "Q1_2015.rename(columns={'ROA': 'ROA Q1/2015', \n",
    "                        'Loan Loss Provision %': 'Loan Loss Provision % Q1/2015', \n",
    "    'Dummy_Loan Loss Provision %': 'Dummy_Loan Loss Provision % Q1/2015',\n",
    "    'Net Charge Off-to-Loans':'Net Charge Off-to-Loans Q1/2015',\n",
    "    'Dummy_Net Charge Off-to-Loans': 'Dummy_Net Charge Off-to-Loans Q1/2015',\n",
    "    'Liquidity': 'Liquidity Q1/2015',\n",
    "    'Dummy_Liquidity': 'Dummy_Liquidity Q1/2015',\n",
    "    'Bank Size': 'Bank Size Q1/2015' ,\n",
    "             'Loan-to-Assets': 'Loan-to-Assets Q1/2015',\n",
    "             'Leverage': 'Leverage Q1/2015' ,\n",
    "             'Fixed Assets-to-Assets':'Fixed Assets-to-Assets Q1/2015' ,\n",
    "'Total derivative contracts held for trading. Equity exchange contracts': 'OBS_Equity Q1/2015',\n",
    "                        'Dummy_OBS_Equity': 'Dummy_OBS_Equity Q1/2015',\n",
    "'Total derivative contracts held for trading. Commodity and other contracts': 'OBS_Commodity&Other Q1/2015',\n",
    "            'Dummy_OBS_Commodity&Other': 'Dummy_OBS_Commodity&Other Q1/2015',\n",
    "'Total derivative contracts            held for trading. Interest rate contracts':'OBS_Interest Q1/2015',\n",
    "        'Dummy_OBS_Interest':'dummy_OBS_Interest Q1/2015',\n",
    "'Total derivative contracts held for trading. Foreign exchange contracts': 'OBS_FX Q1/2015',\n",
    "        'Dummy_OBS_FX': 'Dummy_OBS_FX Q1/2015',\n",
    "'Current credit exposure across all off-balance sheet derivatives            contract covered by \\\n",
    "the risk based capital standards':'OBS Credit Exposure Q1/2015',\n",
    "             'Dummy_OBS_Credit_exposure': 'Dummy_OBS_Credit_exposure Q1/2015',\n",
    "             'Real GDP ($M)': 'Real GDP ($M) Q1/2015',\n",
    "            'Inflation (CPI, base year 2010 =100)':'Inflation Q1/2015',\n",
    "            'Slope of yeild curve': 'Slope of yeild curve Q1/2015',\n",
    "             'Q2' :'Q2 Q1/2015', \n",
    "            'Q3': 'Q3 Q1/2015', \n",
    "            'Q4':'Q4 Q1/2015'\n",
    "                       }, inplace=True)"
   ]
  },
  {
   "cell_type": "code",
   "execution_count": 465,
   "metadata": {
    "collapsed": true
   },
   "outputs": [],
   "source": [
    "Q1_2015 = Q1_2015.reset_index()\n",
    "Q1_2015 = Q1_2015.drop(['index'],axis=1)"
   ]
  },
  {
   "cell_type": "markdown",
   "metadata": {},
   "source": [
    "Q1 2015 has 35 entries"
   ]
  },
  {
   "cell_type": "markdown",
   "metadata": {},
   "source": [
    "Slice Q4 2014"
   ]
  },
  {
   "cell_type": "code",
   "execution_count": 468,
   "metadata": {
    "collapsed": false
   },
   "outputs": [],
   "source": [
    "Q4_2014 = base_df.ix[base_df['Quarter']==\"Q4 2014\"]\n",
    "Q4_2014 = Q4_2014.drop(['ROE','Net Charge-off','Quarter','Bank ID'], axis=1)\n",
    "\n",
    "Q4_2014.rename(columns={'ROA': 'ROA Q4/2014', \n",
    "                        'Loan Loss Provision %': 'Loan Loss Provision % Q4/2014', \n",
    "    'Dummy_Loan Loss Provision %': 'Dummy_Loan Loss Provision % Q4/2014',\n",
    "    'Net Charge Off-to-Loans':'Net Charge Off-to-Loans Q4/2014',\n",
    "    'Dummy_Net Charge Off-to-Loans': 'Dummy_Net Charge Off-to-Loans Q4/2014',\n",
    "    'Liquidity': 'Liquidity Q4/2014',\n",
    "    'Dummy_Liquidity': 'Dummy_Liquidity Q4/2014',\n",
    "    'Bank Size': 'Bank Size Q4/2014' ,\n",
    "             'Loan-to-Assets': 'Loan-to-Assets Q4/2014',\n",
    "             'Leverage': 'Leverage Q4/2014' ,\n",
    "             'Fixed Assets-to-Assets':'Fixed Assets-to-Assets Q4/2014' ,\n",
    "'Total derivative contracts held for trading. Equity exchange contracts': 'OBS_Equity Q4/2014',\n",
    "                        'Dummy_OBS_Equity': 'Dummy_OBS_Equity Q4/2014',\n",
    "'Total derivative contracts held for trading. Commodity and other contracts': 'OBS_Commodity&Other Q4/2014',\n",
    "            'Dummy_OBS_Commodity&Other': 'Dummy_OBS_Commodity&Other Q4/2014',\n",
    "'Total derivative contracts            held for trading. Interest rate contracts':'OBS_Interest Q4/2014',\n",
    "        'Dummy_OBS_Interest':'dummy_OBS_Interest Q4/2014',\n",
    "'Total derivative contracts held for trading. Foreign exchange contracts': 'OBS_FX Q4/2014',\n",
    "        'Dummy_OBS_FX': 'Dummy_OBS_FX Q4/2014',\n",
    "'Current credit exposure across all off-balance sheet derivatives            contract covered by \\\n",
    "the risk based capital standards':'OBS Credit Exposure Q4/2014',\n",
    "             'Dummy_OBS_Credit_exposure': 'Dummy_OBS_Credit_exposure Q4/2014',\n",
    "             'Real GDP ($M)': 'Real GDP ($M) Q4/2014',\n",
    "            'Inflation (CPI, base year 2010 =100)':'Inflation Q4/2014',\n",
    "            'Slope of yeild curve': 'Slope of yeild curve Q4/2014',\n",
    "             'Q2' :'Q2 Q4/2014', \n",
    "            'Q3': 'Q3 Q4/2014', \n",
    "            'Q4':'Q4 Q4/2014'\n",
    "                       }, inplace=True)"
   ]
  },
  {
   "cell_type": "code",
   "execution_count": 469,
   "metadata": {
    "collapsed": true
   },
   "outputs": [],
   "source": [
    "Q4_2014 = Q4_2014.reset_index()\n",
    "Q4_2014 = Q4_2014.drop(['index'],axis=1)"
   ]
  },
  {
   "cell_type": "markdown",
   "metadata": {},
   "source": [
    "Q4 2014 has 90 entries"
   ]
  },
  {
   "cell_type": "code",
   "execution_count": 483,
   "metadata": {
    "collapsed": true
   },
   "outputs": [],
   "source": [
    "Q3_2014 = base_df.ix[base_df['Quarter']==\"Q3 2014\"]\n",
    "Q3_2014 = Q3_2014.drop(['ROE','Net Charge-off','Quarter','Bank ID'], axis=1)\n",
    "\n",
    "Q3_2014.rename(columns={'ROA': 'ROA Q3/2014', \n",
    "                        'Loan Loss Provision %': 'Loan Loss Provision % Q3/2014', \n",
    "    'Dummy_Loan Loss Provision %': 'Dummy_Loan Loss Provision % Q3/2014',\n",
    "    'Net Charge Off-to-Loans':'Net Charge Off-to-Loans Q3/2014',\n",
    "    'Dummy_Net Charge Off-to-Loans': 'Dummy_Net Charge Off-to-Loans Q3/2014',\n",
    "    'Liquidity': 'Liquidity Q3/2014',\n",
    "    'Dummy_Liquidity': 'Dummy_Liquidity Q3/2014',\n",
    "    'Bank Size': 'Bank Size Q3/2014' ,\n",
    "             'Loan-to-Assets': 'Loan-to-Assets Q3/2014',\n",
    "             'Leverage': 'Leverage Q3/2014' ,\n",
    "             'Fixed Assets-to-Assets':'Fixed Assets-to-Assets Q3/2014' ,\n",
    "'Total derivative contracts held for trading. Equity exchange contracts': 'OBS_Equity Q3/2014',\n",
    "                        'Dummy_OBS_Equity': 'Dummy_OBS_Equity Q3/2014',\n",
    "'Total derivative contracts held for trading. Commodity and other contracts': 'OBS_Commodity&Other Q3/2014',\n",
    "            'Dummy_OBS_Commodity&Other': 'Dummy_OBS_Commodity&Other Q3/2014',\n",
    "'Total derivative contracts            held for trading. Interest rate contracts':'OBS_Interest Q3/2014',\n",
    "        'Dummy_OBS_Interest':'dummy_OBS_Interest Q3/2014',\n",
    "'Total derivative contracts held for trading. Foreign exchange contracts': 'OBS_FX Q3/2014',\n",
    "        'Dummy_OBS_FX': 'Dummy_OBS_FX Q3/2014',\n",
    "'Current credit exposure across all off-balance sheet derivatives            contract covered by \\\n",
    "the risk based capital standards':'OBS Credit Exposure Q3/2014',\n",
    "             'Dummy_OBS_Credit_exposure': 'Dummy_OBS_Credit_exposure Q3/2014',\n",
    "             'Real GDP ($M)': 'Real GDP ($M) Q3/2014',\n",
    "            'Inflation (CPI, base year 2010 =100)':'Inflation Q3/2014',\n",
    "            'Slope of yeild curve': 'Slope of yeild curve Q3/2014',\n",
    "             'Q2' :'Q2 Q3/2014', \n",
    "            'Q3': 'Q3 Q3/2014', \n",
    "            'Q4':'Q4 Q3/2014'\n",
    "                       }, inplace=True)"
   ]
  },
  {
   "cell_type": "code",
   "execution_count": 484,
   "metadata": {
    "collapsed": true
   },
   "outputs": [],
   "source": [
    "Q3_2014 = Q3_2014.reset_index()\n",
    "Q3_2014 = Q3_2014.drop(['index'],axis=1)"
   ]
  },
  {
   "cell_type": "markdown",
   "metadata": {},
   "source": [
    "* Q3_2015 has 31 entries\n",
    "* Q2_2015 has 31 entries\n",
    "* Q1_2015 has 35 entries\n",
    "* Q4_2014 has 90 entries\n",
    "* Q3_2014 has 45 entries"
   ]
  },
  {
   "cell_type": "code",
   "execution_count": 597,
   "metadata": {
    "collapsed": false
   },
   "outputs": [],
   "source": [
    "reg_df = pd.concat([Q3_2015, Q2_2015, Q1_2015, Q4_2014, Q3_2014], axis=1)"
   ]
  },
  {
   "cell_type": "code",
   "execution_count": 598,
   "metadata": {
    "collapsed": false
   },
   "outputs": [],
   "source": [
    "#reg_df = Q3_2014.join(Q4_2014)\n",
    "#reg_df = reg_df.join(Q1_2015)\n",
    "#reg_df = reg_df.join(Q2_2015)"
   ]
  },
  {
   "cell_type": "code",
   "execution_count": 599,
   "metadata": {
    "collapsed": false
   },
   "outputs": [
    {
     "data": {
      "text/html": [
       "<div>\n",
       "<table border=\"1\" class=\"dataframe\">\n",
       "  <thead>\n",
       "    <tr style=\"text-align: right;\">\n",
       "      <th></th>\n",
       "      <th>ROA Q3/2015</th>\n",
       "      <th>ROA Q2/2015</th>\n",
       "      <th>Loan Loss Provision % Q2/2015</th>\n",
       "      <th>Dummy_Loan Loss Provision % Q2/2015</th>\n",
       "      <th>Net Charge Off-to-Loans Q2/2015</th>\n",
       "      <th>Dummy_Net Charge Off-to-Loans Q2/2015</th>\n",
       "      <th>Liquidity Q2/2015</th>\n",
       "      <th>Dummy_Liquidity Q2/2015</th>\n",
       "      <th>Bank Size Q2/2015</th>\n",
       "      <th>Loan-to-Assets Q2/2015</th>\n",
       "      <th>...</th>\n",
       "      <th>OBS_FX Q3/2014</th>\n",
       "      <th>Dummy_OBS_FX Q3/2014</th>\n",
       "      <th>OBS Credit Exposure Q3/2014</th>\n",
       "      <th>Dummy_OBS_Credit_exposure Q3/2014</th>\n",
       "      <th>Real GDP ($M) Q3/2014</th>\n",
       "      <th>Inflation Q3/2014</th>\n",
       "      <th>Slope of yeild curve Q3/2014</th>\n",
       "      <th>Q2 Q3/2014</th>\n",
       "      <th>Q3 Q3/2014</th>\n",
       "      <th>Q4 Q3/2014</th>\n",
       "    </tr>\n",
       "  </thead>\n",
       "  <tbody>\n",
       "    <tr>\n",
       "      <th>85</th>\n",
       "      <td>NaN</td>\n",
       "      <td>NaN</td>\n",
       "      <td>NaN</td>\n",
       "      <td>NaN</td>\n",
       "      <td>NaN</td>\n",
       "      <td>NaN</td>\n",
       "      <td>NaN</td>\n",
       "      <td>NaN</td>\n",
       "      <td>NaN</td>\n",
       "      <td>NaN</td>\n",
       "      <td>...</td>\n",
       "      <td>NaN</td>\n",
       "      <td>NaN</td>\n",
       "      <td>NaN</td>\n",
       "      <td>NaN</td>\n",
       "      <td>NaN</td>\n",
       "      <td>NaN</td>\n",
       "      <td>NaN</td>\n",
       "      <td>NaN</td>\n",
       "      <td>NaN</td>\n",
       "      <td>NaN</td>\n",
       "    </tr>\n",
       "    <tr>\n",
       "      <th>86</th>\n",
       "      <td>NaN</td>\n",
       "      <td>NaN</td>\n",
       "      <td>NaN</td>\n",
       "      <td>NaN</td>\n",
       "      <td>NaN</td>\n",
       "      <td>NaN</td>\n",
       "      <td>NaN</td>\n",
       "      <td>NaN</td>\n",
       "      <td>NaN</td>\n",
       "      <td>NaN</td>\n",
       "      <td>...</td>\n",
       "      <td>NaN</td>\n",
       "      <td>NaN</td>\n",
       "      <td>NaN</td>\n",
       "      <td>NaN</td>\n",
       "      <td>NaN</td>\n",
       "      <td>NaN</td>\n",
       "      <td>NaN</td>\n",
       "      <td>NaN</td>\n",
       "      <td>NaN</td>\n",
       "      <td>NaN</td>\n",
       "    </tr>\n",
       "    <tr>\n",
       "      <th>87</th>\n",
       "      <td>NaN</td>\n",
       "      <td>NaN</td>\n",
       "      <td>NaN</td>\n",
       "      <td>NaN</td>\n",
       "      <td>NaN</td>\n",
       "      <td>NaN</td>\n",
       "      <td>NaN</td>\n",
       "      <td>NaN</td>\n",
       "      <td>NaN</td>\n",
       "      <td>NaN</td>\n",
       "      <td>...</td>\n",
       "      <td>NaN</td>\n",
       "      <td>NaN</td>\n",
       "      <td>NaN</td>\n",
       "      <td>NaN</td>\n",
       "      <td>NaN</td>\n",
       "      <td>NaN</td>\n",
       "      <td>NaN</td>\n",
       "      <td>NaN</td>\n",
       "      <td>NaN</td>\n",
       "      <td>NaN</td>\n",
       "    </tr>\n",
       "    <tr>\n",
       "      <th>88</th>\n",
       "      <td>NaN</td>\n",
       "      <td>NaN</td>\n",
       "      <td>NaN</td>\n",
       "      <td>NaN</td>\n",
       "      <td>NaN</td>\n",
       "      <td>NaN</td>\n",
       "      <td>NaN</td>\n",
       "      <td>NaN</td>\n",
       "      <td>NaN</td>\n",
       "      <td>NaN</td>\n",
       "      <td>...</td>\n",
       "      <td>NaN</td>\n",
       "      <td>NaN</td>\n",
       "      <td>NaN</td>\n",
       "      <td>NaN</td>\n",
       "      <td>NaN</td>\n",
       "      <td>NaN</td>\n",
       "      <td>NaN</td>\n",
       "      <td>NaN</td>\n",
       "      <td>NaN</td>\n",
       "      <td>NaN</td>\n",
       "    </tr>\n",
       "    <tr>\n",
       "      <th>89</th>\n",
       "      <td>NaN</td>\n",
       "      <td>NaN</td>\n",
       "      <td>NaN</td>\n",
       "      <td>NaN</td>\n",
       "      <td>NaN</td>\n",
       "      <td>NaN</td>\n",
       "      <td>NaN</td>\n",
       "      <td>NaN</td>\n",
       "      <td>NaN</td>\n",
       "      <td>NaN</td>\n",
       "      <td>...</td>\n",
       "      <td>NaN</td>\n",
       "      <td>NaN</td>\n",
       "      <td>NaN</td>\n",
       "      <td>NaN</td>\n",
       "      <td>NaN</td>\n",
       "      <td>NaN</td>\n",
       "      <td>NaN</td>\n",
       "      <td>NaN</td>\n",
       "      <td>NaN</td>\n",
       "      <td>NaN</td>\n",
       "    </tr>\n",
       "  </tbody>\n",
       "</table>\n",
       "<p>5 rows × 109 columns</p>\n",
       "</div>"
      ],
      "text/plain": [
       "    ROA Q3/2015  ROA Q2/2015  Loan Loss Provision % Q2/2015  \\\n",
       "85          NaN          NaN                            NaN   \n",
       "86          NaN          NaN                            NaN   \n",
       "87          NaN          NaN                            NaN   \n",
       "88          NaN          NaN                            NaN   \n",
       "89          NaN          NaN                            NaN   \n",
       "\n",
       "    Dummy_Loan Loss Provision % Q2/2015  Net Charge Off-to-Loans Q2/2015  \\\n",
       "85                                  NaN                              NaN   \n",
       "86                                  NaN                              NaN   \n",
       "87                                  NaN                              NaN   \n",
       "88                                  NaN                              NaN   \n",
       "89                                  NaN                              NaN   \n",
       "\n",
       "    Dummy_Net Charge Off-to-Loans Q2/2015  Liquidity Q2/2015  \\\n",
       "85                                    NaN                NaN   \n",
       "86                                    NaN                NaN   \n",
       "87                                    NaN                NaN   \n",
       "88                                    NaN                NaN   \n",
       "89                                    NaN                NaN   \n",
       "\n",
       "    Dummy_Liquidity Q2/2015  Bank Size Q2/2015  Loan-to-Assets Q2/2015  \\\n",
       "85                      NaN                NaN                     NaN   \n",
       "86                      NaN                NaN                     NaN   \n",
       "87                      NaN                NaN                     NaN   \n",
       "88                      NaN                NaN                     NaN   \n",
       "89                      NaN                NaN                     NaN   \n",
       "\n",
       "       ...      OBS_FX Q3/2014  Dummy_OBS_FX Q3/2014  \\\n",
       "85     ...                 NaN                   NaN   \n",
       "86     ...                 NaN                   NaN   \n",
       "87     ...                 NaN                   NaN   \n",
       "88     ...                 NaN                   NaN   \n",
       "89     ...                 NaN                   NaN   \n",
       "\n",
       "    OBS Credit Exposure Q3/2014  Dummy_OBS_Credit_exposure Q3/2014  \\\n",
       "85                          NaN                                NaN   \n",
       "86                          NaN                                NaN   \n",
       "87                          NaN                                NaN   \n",
       "88                          NaN                                NaN   \n",
       "89                          NaN                                NaN   \n",
       "\n",
       "    Real GDP ($M) Q3/2014  Inflation Q3/2014  Slope of yeild curve Q3/2014  \\\n",
       "85                    NaN                NaN                           NaN   \n",
       "86                    NaN                NaN                           NaN   \n",
       "87                    NaN                NaN                           NaN   \n",
       "88                    NaN                NaN                           NaN   \n",
       "89                    NaN                NaN                           NaN   \n",
       "\n",
       "    Q2 Q3/2014  Q3 Q3/2014  Q4 Q3/2014  \n",
       "85         NaN         NaN         NaN  \n",
       "86         NaN         NaN         NaN  \n",
       "87         NaN         NaN         NaN  \n",
       "88         NaN         NaN         NaN  \n",
       "89         NaN         NaN         NaN  \n",
       "\n",
       "[5 rows x 109 columns]"
      ]
     },
     "execution_count": 599,
     "metadata": {},
     "output_type": "execute_result"
    }
   ],
   "source": [
    "reg_df.tail()\n"
   ]
  },
  {
   "cell_type": "code",
   "execution_count": 607,
   "metadata": {
    "collapsed": false
   },
   "outputs": [],
   "source": [
    "reg_df = reg_df.dropna()\n",
    "reg_df.to_csv('reg_df.csv')"
   ]
  },
  {
   "cell_type": "code",
   "execution_count": 609,
   "metadata": {
    "collapsed": false
   },
   "outputs": [],
   "source": [
    "df1 = df.ix[:,0:2]\n",
    "X1 = reg_df.ix[:,1:]\n"
   ]
  },
  {
   "cell_type": "code",
   "execution_count": 612,
   "metadata": {
    "collapsed": false
   },
   "outputs": [
    {
     "ename": "NotImplementedError",
     "evalue": "Only 2-level MultiIndex are supported.",
     "output_type": "error",
     "traceback": [
      "\u001b[1;31m---------------------------------------------------------------------------\u001b[0m",
      "\u001b[1;31mNotImplementedError\u001b[0m                       Traceback (most recent call last)",
      "\u001b[1;32m<ipython-input-612-8392e2d03127>\u001b[0m in \u001b[0;36m<module>\u001b[1;34m()\u001b[0m\n\u001b[0;32m      3\u001b[0m \u001b[1;31m#X = reg_df['ROA Q2/2015']\u001b[0m\u001b[1;33m\u001b[0m\u001b[1;33m\u001b[0m\u001b[0m\n\u001b[0;32m      4\u001b[0m \u001b[0mY\u001b[0m \u001b[1;33m=\u001b[0m \u001b[0mreg_df\u001b[0m\u001b[1;33m[\u001b[0m\u001b[1;34m'ROA Q3/2015'\u001b[0m\u001b[1;33m]\u001b[0m\u001b[1;33m\u001b[0m\u001b[0m\n\u001b[1;32m----> 5\u001b[1;33m \u001b[0mreg\u001b[0m  \u001b[1;33m=\u001b[0m \u001b[0mPanelOLS\u001b[0m\u001b[1;33m(\u001b[0m\u001b[0mY\u001b[0m\u001b[1;33m,\u001b[0m \u001b[0mX\u001b[0m\u001b[1;33m)\u001b[0m\u001b[1;33m\u001b[0m\u001b[0m\n\u001b[0m\u001b[0;32m      6\u001b[0m \u001b[0mreg\u001b[0m\u001b[1;33m\u001b[0m\u001b[0m\n",
      "\u001b[1;32mC:\\Users\\thanh\\AppData\\Local\\Enthought\\Canopy\\User\\lib\\site-packages\\pandas\\stats\\plm.pyc\u001b[0m in \u001b[0;36m__init__\u001b[1;34m(self, y, x, weights, intercept, nw_lags, entity_effects, time_effects, x_effects, cluster, dropped_dummies, verbose, nw_overlap)\u001b[0m\n\u001b[0;32m     58\u001b[0m         (self._x, self._x_trans,\n\u001b[0;32m     59\u001b[0m          \u001b[0mself\u001b[0m\u001b[1;33m.\u001b[0m\u001b[0m_x_filtered\u001b[0m\u001b[1;33m,\u001b[0m \u001b[0mself\u001b[0m\u001b[1;33m.\u001b[0m\u001b[0m_y\u001b[0m\u001b[1;33m,\u001b[0m\u001b[1;33m\u001b[0m\u001b[0m\n\u001b[1;32m---> 60\u001b[1;33m          self._y_trans) = self._prepare_data()\n\u001b[0m\u001b[0;32m     61\u001b[0m \u001b[1;33m\u001b[0m\u001b[0m\n\u001b[0;32m     62\u001b[0m         \u001b[0mself\u001b[0m\u001b[1;33m.\u001b[0m\u001b[0m_index\u001b[0m \u001b[1;33m=\u001b[0m \u001b[0mself\u001b[0m\u001b[1;33m.\u001b[0m\u001b[0m_x\u001b[0m\u001b[1;33m.\u001b[0m\u001b[0mindex\u001b[0m\u001b[1;33m.\u001b[0m\u001b[0mlevels\u001b[0m\u001b[1;33m[\u001b[0m\u001b[1;36m0\u001b[0m\u001b[1;33m]\u001b[0m\u001b[1;33m\u001b[0m\u001b[0m\n",
      "\u001b[1;32mC:\\Users\\thanh\\AppData\\Local\\Enthought\\Canopy\\User\\lib\\site-packages\\pandas\\stats\\plm.pyc\u001b[0m in \u001b[0;36m_prepare_data\u001b[1;34m(self)\u001b[0m\n\u001b[0;32m     80\u001b[0m         \u001b[0mThe\u001b[0m \u001b[0mcategorical\u001b[0m \u001b[0mvariables\u001b[0m \u001b[0mwill\u001b[0m \u001b[0mget\u001b[0m \u001b[0mdropped\u001b[0m \u001b[1;32mfrom\u001b[0m \u001b[0mx\u001b[0m\u001b[1;33m.\u001b[0m\u001b[1;33m\u001b[0m\u001b[0m\n\u001b[0;32m     81\u001b[0m         \"\"\"\n\u001b[1;32m---> 82\u001b[1;33m         \u001b[1;33m(\u001b[0m\u001b[0mx\u001b[0m\u001b[1;33m,\u001b[0m \u001b[0mx_filtered\u001b[0m\u001b[1;33m,\u001b[0m \u001b[0my\u001b[0m\u001b[1;33m,\u001b[0m \u001b[0mweights\u001b[0m\u001b[1;33m,\u001b[0m \u001b[0mcat_mapping\u001b[0m\u001b[1;33m)\u001b[0m \u001b[1;33m=\u001b[0m \u001b[0mself\u001b[0m\u001b[1;33m.\u001b[0m\u001b[0m_filter_data\u001b[0m\u001b[1;33m(\u001b[0m\u001b[1;33m)\u001b[0m\u001b[1;33m\u001b[0m\u001b[0m\n\u001b[0m\u001b[0;32m     83\u001b[0m \u001b[1;33m\u001b[0m\u001b[0m\n\u001b[0;32m     84\u001b[0m         \u001b[0mself\u001b[0m\u001b[1;33m.\u001b[0m\u001b[0mlog\u001b[0m\u001b[1;33m(\u001b[0m\u001b[1;34m'Adding dummies to X variables'\u001b[0m\u001b[1;33m)\u001b[0m\u001b[1;33m\u001b[0m\u001b[0m\n",
      "\u001b[1;32mC:\\Users\\thanh\\AppData\\Local\\Enthought\\Canopy\\User\\lib\\site-packages\\pandas\\stats\\plm.pyc\u001b[0m in \u001b[0;36m_filter_data\u001b[1;34m(self)\u001b[0m\n\u001b[0;32m    132\u001b[0m \u001b[1;33m\u001b[0m\u001b[0m\n\u001b[0;32m    133\u001b[0m         \u001b[1;32mif\u001b[0m \u001b[0misinstance\u001b[0m\u001b[1;33m(\u001b[0m\u001b[0mdata\u001b[0m\u001b[1;33m,\u001b[0m \u001b[0mDataFrame\u001b[0m\u001b[1;33m)\u001b[0m\u001b[1;33m:\u001b[0m\u001b[1;33m\u001b[0m\u001b[0m\n\u001b[1;32m--> 134\u001b[1;33m             \u001b[0mdata\u001b[0m \u001b[1;33m=\u001b[0m \u001b[0mdata\u001b[0m\u001b[1;33m.\u001b[0m\u001b[0mto_panel\u001b[0m\u001b[1;33m(\u001b[0m\u001b[1;33m)\u001b[0m\u001b[1;33m\u001b[0m\u001b[0m\n\u001b[0m\u001b[0;32m    135\u001b[0m         \u001b[1;32melse\u001b[0m\u001b[1;33m:\u001b[0m\u001b[1;33m\u001b[0m\u001b[0m\n\u001b[0;32m    136\u001b[0m             \u001b[1;32mif\u001b[0m \u001b[0misinstance\u001b[0m\u001b[1;33m(\u001b[0m\u001b[0mdata\u001b[0m\u001b[1;33m,\u001b[0m \u001b[0mPanel\u001b[0m\u001b[1;33m)\u001b[0m\u001b[1;33m:\u001b[0m\u001b[1;33m\u001b[0m\u001b[0m\n",
      "\u001b[1;32mC:\\Users\\thanh\\AppData\\Local\\Enthought\\Canopy\\User\\lib\\site-packages\\pandas\\core\\frame.pyc\u001b[0m in \u001b[0;36mto_panel\u001b[1;34m(self)\u001b[0m\n\u001b[0;32m   1221\u001b[0m         if (not isinstance(self.index, MultiIndex) or  # pragma: no cover\n\u001b[0;32m   1222\u001b[0m                 len(self.index.levels) != 2):\n\u001b[1;32m-> 1223\u001b[1;33m             \u001b[1;32mraise\u001b[0m \u001b[0mNotImplementedError\u001b[0m\u001b[1;33m(\u001b[0m\u001b[1;34m'Only 2-level MultiIndex are supported.'\u001b[0m\u001b[1;33m)\u001b[0m\u001b[1;33m\u001b[0m\u001b[0m\n\u001b[0m\u001b[0;32m   1224\u001b[0m \u001b[1;33m\u001b[0m\u001b[0m\n\u001b[0;32m   1225\u001b[0m         \u001b[1;32mif\u001b[0m \u001b[1;32mnot\u001b[0m \u001b[0mself\u001b[0m\u001b[1;33m.\u001b[0m\u001b[0mindex\u001b[0m\u001b[1;33m.\u001b[0m\u001b[0mis_unique\u001b[0m\u001b[1;33m:\u001b[0m\u001b[1;33m\u001b[0m\u001b[0m\n",
      "\u001b[1;31mNotImplementedError\u001b[0m: Only 2-level MultiIndex are supported."
     ]
    }
   ],
   "source": [
    "from pandas.stats.plm import PanelOLS\n",
    "X = reg_df.ix[:,1:2]\n",
    "#X = reg_df['ROA Q2/2015']\n",
    "Y = reg_df['ROA Q3/2015']\n",
    "reg  = PanelOLS(Y, X)\n",
    "reg"
   ]
  },
  {
   "cell_type": "code",
   "execution_count": null,
   "metadata": {
    "collapsed": true
   },
   "outputs": [],
   "source": []
  }
 ],
 "metadata": {
  "kernelspec": {
   "display_name": "Python 2",
   "language": "python",
   "name": "python2"
  },
  "language_info": {
   "codemirror_mode": {
    "name": "ipython",
    "version": 2
   },
   "file_extension": ".py",
   "mimetype": "text/x-python",
   "name": "python",
   "nbconvert_exporter": "python",
   "pygments_lexer": "ipython2",
   "version": "2.7.11"
  }
 },
 "nbformat": 4,
 "nbformat_minor": 0
}
